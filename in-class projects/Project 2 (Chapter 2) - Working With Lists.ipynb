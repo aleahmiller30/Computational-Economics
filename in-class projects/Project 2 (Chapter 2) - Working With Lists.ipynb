{
 "cells": [
  {
   "cell_type": "markdown",
   "id": "596aad51",
   "metadata": {},
   "source": [
    "# Chapter 2: Working With Lists"
   ]
  },
  {
   "cell_type": "markdown",
   "id": "e4e6aabf",
   "metadata": {},
   "source": [
    "Dictionaries and lists are the prefered data structures in python"
   ]
  },
  {
   "cell_type": "code",
   "execution_count": 1,
   "id": "f6cd3bf4",
   "metadata": {},
   "outputs": [
    {
     "name": "stdout",
     "output_type": "stream",
     "text": [
      "[]\n",
      "[1, 2, 3, 4, 5]\n",
      "[1.0, 2.0, 3.0, 4.0, 5.0]\n",
      "['One', 'Two', 'Three']\n",
      "[1, 2.0, 'Three']\n"
     ]
    }
   ],
   "source": [
    "#lists\n",
    "empty_list = []\n",
    "int_list = [1,2,3,4,5]\n",
    "float_list = [1.0, 2.0, 3.0, 4.0, 5.0]\n",
    "string_list = [\"One\", \"Two\", \"Three\"]\n",
    "mixed_list = [1, 2.0, \"Three\"]\n",
    "\n",
    "print(empty_list)\n",
    "print(int_list)\n",
    "print(float_list)\n",
    "print(string_list)\n",
    "print(mixed_list)"
   ]
  },
  {
   "cell_type": "code",
   "execution_count": 2,
   "id": "59ed910e",
   "metadata": {},
   "outputs": [
    {
     "name": "stdout",
     "output_type": "stream",
     "text": [
      "<class 'list'>\n",
      "<class 'list'>\n"
     ]
    }
   ],
   "source": [
    "print(type(int_list))\n",
    "print(type(float_list))"
   ]
  },
  {
   "cell_type": "code",
   "execution_count": 3,
   "id": "c2407c3c",
   "metadata": {},
   "outputs": [
    {
     "name": "stdout",
     "output_type": "stream",
     "text": [
      "<class 'list'> [1, 2.0, 'Three']\n",
      "<class 'int'> 1\n",
      "<class 'float'> 2.0\n",
      "<class 'str'> Three\n"
     ]
    }
   ],
   "source": [
    "print(type(mixed_list), mixed_list)\n",
    "for value in mixed_list:\n",
    "    print(type(value), value)"
   ]
  },
  {
   "cell_type": "markdown",
   "id": "803fbbaf",
   "metadata": {},
   "source": [
    "## Concatenating lists\n",
    "concatenating two seperate lists joins those lists into a single list, has the same affect as appending the second list to the first list"
   ]
  },
  {
   "cell_type": "code",
   "execution_count": 4,
   "id": "365c73bb",
   "metadata": {},
   "outputs": [
    {
     "data": {
      "text/plain": [
       "'ab'"
      ]
     },
     "execution_count": 4,
     "metadata": {},
     "output_type": "execute_result"
    }
   ],
   "source": [
    "\"a\" + \"b\""
   ]
  },
  {
   "cell_type": "code",
   "execution_count": 5,
   "id": "7bd6cad7",
   "metadata": {},
   "outputs": [
    {
     "data": {
      "text/plain": [
       "['a', 'b']"
      ]
     },
     "execution_count": 5,
     "metadata": {},
     "output_type": "execute_result"
    }
   ],
   "source": [
    "[\"a\"] + [\"b\"]"
   ]
  },
  {
   "cell_type": "code",
   "execution_count": 6,
   "id": "7a7f884a",
   "metadata": {},
   "outputs": [
    {
     "data": {
      "text/plain": [
       "['a', 'b']"
      ]
     },
     "execution_count": 6,
     "metadata": {},
     "output_type": "execute_result"
    }
   ],
   "source": [
    "x = [\"a\"]\n",
    "x = x + [\"b\"]\n",
    "x"
   ]
  },
  {
   "cell_type": "markdown",
   "id": "1c582be5",
   "metadata": {},
   "source": [
    "### Transform a string of characters into a list of string characters"
   ]
  },
  {
   "cell_type": "code",
   "execution_count": 7,
   "id": "c8c8aaca",
   "metadata": {},
   "outputs": [
    {
     "name": "stdout",
     "output_type": "stream",
     "text": [
      "a\n",
      "b\n",
      "c\n",
      "d\n",
      "e\n",
      "f\n",
      "g\n",
      "h\n",
      "i\n",
      "j\n",
      "k\n",
      "l\n",
      "m\n",
      "n\n",
      "o\n",
      "p\n",
      "q\n",
      "r\n",
      "s\n",
      "t\n",
      "u\n",
      "v\n",
      "w\n",
      "x\n",
      "y\n",
      "z\n",
      "['a', 'b', 'c', 'd', 'e', 'f', 'g', 'h', 'i', 'j', 'k', 'l', 'm', 'n', 'o', 'p', 'q', 'r', 's', 't', 'u', 'v', 'w', 'x', 'y', 'z']\n"
     ]
    }
   ],
   "source": [
    "alphabet = \"abcdefghijklmnopqrstuvwxyz\"\n",
    "alpha_list = []\n",
    "# for loop will cycle through each character (letter) in the string, alphabet\n",
    "# each character will be reprsented by the variable: letter\n",
    "for letter in alphabet:\n",
    "    print(letter)\n",
    "    alpha_list = alpha_list + [letter]\n",
    "print(alpha_list)"
   ]
  },
  {
   "cell_type": "code",
   "execution_count": 8,
   "id": "4ec5b7ec",
   "metadata": {},
   "outputs": [
    {
     "data": {
      "text/plain": [
       "[1, 2, 3, 4, 5, 6, 7, 8, 9, 10]"
      ]
     },
     "execution_count": 8,
     "metadata": {},
     "output_type": "execute_result"
    }
   ],
   "source": [
    "list1 = [1,2,3,4,5]\n",
    "list2 = [6,7,8,9,10]\n",
    "list1 + list2"
   ]
  },
  {
   "cell_type": "markdown",
   "id": "da00873e",
   "metadata": {},
   "source": [
    "### Transform a list of strings into a single string with spaces between each word"
   ]
  },
  {
   "cell_type": "code",
   "execution_count": 9,
   "id": "46ae9848",
   "metadata": {},
   "outputs": [
    {
     "name": "stdout",
     "output_type": "stream",
     "text": [
      "This\n",
      "This \n",
      "is\n",
      "This is \n",
      "a\n",
      "This is a \n",
      "list\n",
      "This is a list \n",
      "of\n",
      "This is a list of \n",
      "strings.\n",
      "This is a list of strings. \n"
     ]
    },
    {
     "data": {
      "text/plain": [
       "'This is a list of strings.'"
      ]
     },
     "execution_count": 9,
     "metadata": {},
     "output_type": "execute_result"
    }
   ],
   "source": [
    "str_list = [\"This\", \"is\",\"a\",\"list\",\"of\",\"strings.\"]\n",
    "new_string = \"\"\n",
    "#the for loop will cycle through each string in the list seperately\n",
    "# each string will be indentified by the variable: string\n",
    "for string in str_list:\n",
    "    print(string)\n",
    "    # join each seperate string to the object new_string\n",
    "    new_string = new_string + string + \" \"\n",
    "    print(new_string)\n",
    "new_string.strip()"
   ]
  },
  {
   "cell_type": "markdown",
   "id": "e32ae3a1",
   "metadata": {},
   "source": [
    "### range (min, max +1, interval)"
   ]
  },
  {
   "cell_type": "code",
   "execution_count": 10,
   "id": "358e9916",
   "metadata": {},
   "outputs": [
    {
     "name": "stdout",
     "output_type": "stream",
     "text": [
      "0\n",
      "1\n",
      "2\n",
      "3\n",
      "4\n",
      "5\n",
      "6\n",
      "7\n",
      "8\n",
      "9\n"
     ]
    }
   ],
   "source": [
    "for i in range(10):\n",
    "    print(i)"
   ]
  },
  {
   "cell_type": "code",
   "execution_count": 11,
   "id": "0e0a0127",
   "metadata": {},
   "outputs": [
    {
     "name": "stdout",
     "output_type": "stream",
     "text": [
      "0\n",
      "1\n",
      "2\n",
      "3\n",
      "4\n",
      "5\n",
      "6\n",
      "7\n",
      "8\n",
      "9\n"
     ]
    }
   ],
   "source": [
    "for i in range(0, 10):\n",
    "    print(i)"
   ]
  },
  {
   "cell_type": "code",
   "execution_count": 12,
   "id": "bf84de1e",
   "metadata": {},
   "outputs": [
    {
     "data": {
      "text/plain": [
       "[-10, -9, -8, -7, -6, -5, -4, -3, -2, -1, 0, 1, 2, 3, 4, 5, 6, 7, 8, 9, 10]"
      ]
     },
     "execution_count": 12,
     "metadata": {},
     "output_type": "execute_result"
    }
   ],
   "source": [
    "minrange = -10\n",
    "maxrange = 10\n",
    "range_list = list(range(minrange,maxrange +1,))\n",
    "range_list"
   ]
  },
  {
   "cell_type": "code",
   "execution_count": 13,
   "id": "2fe5fe3c",
   "metadata": {},
   "outputs": [
    {
     "data": {
      "text/plain": [
       "range(0, 10)"
      ]
     },
     "execution_count": 13,
     "metadata": {},
     "output_type": "execute_result"
    }
   ],
   "source": [
    "range(0,10)\n",
    "#you have to put the range into action such as in a list"
   ]
  },
  {
   "cell_type": "code",
   "execution_count": 14,
   "id": "073465dc",
   "metadata": {},
   "outputs": [
    {
     "name": "stdout",
     "output_type": "stream",
     "text": [
      "-10\n",
      "-9\n",
      "-8\n",
      "-7\n",
      "-6\n",
      "-5\n",
      "-4\n",
      "-3\n",
      "-2\n",
      "-1\n",
      "0\n",
      "1\n",
      "2\n",
      "3\n",
      "4\n",
      "5\n",
      "6\n",
      "7\n",
      "8\n",
      "9\n",
      "10\n"
     ]
    }
   ],
   "source": [
    "#comparing - you get the same outcome similar to the top\n",
    "for i in range_list:\n",
    "    print(i)"
   ]
  },
  {
   "cell_type": "code",
   "execution_count": 15,
   "id": "f5762848",
   "metadata": {},
   "outputs": [
    {
     "name": "stdout",
     "output_type": "stream",
     "text": [
      "0\n",
      "1\n",
      "2\n",
      "3\n",
      "4\n",
      "5\n",
      "6\n",
      "7\n",
      "8\n",
      "9\n"
     ]
    }
   ],
   "source": [
    "for i in range(0,10):\n",
    "    print(i)"
   ]
  },
  {
   "cell_type": "code",
   "execution_count": 16,
   "id": "f5aa3aa8",
   "metadata": {},
   "outputs": [
    {
     "name": "stdout",
     "output_type": "stream",
     "text": [
      "[-100, -97, -94, -91, -88, -85, -82, -79, -76, -73, -70, -67, -64, -61, -58, -55, -52, -49, -46, -43, -40, -37, -34, -31, -28, -25, -22, -19, -16, -13, -10, -7, -4, -1, 2, 5, 8, 11, 14, 17, 20, 23, 26, 29, 32, 35, 38, 41, 44, 47, 50, 53, 56, 59, 62, 65, 68, 71, 74, 77, 80, 83, 86, 89, 92, 95, 98]\n"
     ]
    }
   ],
   "source": [
    "minrange = -100\n",
    "maxrange = 100\n",
    "interval = 3\n",
    "range_list = list(range(minrange,maxrange +1, interval))\n",
    "print(range_list)"
   ]
  },
  {
   "cell_type": "markdown",
   "id": "8740f3f2",
   "metadata": {},
   "source": [
    "### interval can be used in range() but it can also be used in calling a slice of a list where only every i elements are called "
   ]
  },
  {
   "cell_type": "code",
   "execution_count": 17,
   "id": "0eb76cbf",
   "metadata": {},
   "outputs": [
    {
     "name": "stdout",
     "output_type": "stream",
     "text": [
      "[-100, -99, -98, -97, -96, -95, -94, -93, -92, -91, -90, -89, -88, -87, -86, -85, -84, -83, -82, -81, -80, -79, -78, -77, -76, -75, -74, -73, -72, -71, -70, -69, -68, -67, -66, -65, -64, -63, -62, -61, -60, -59, -58, -57, -56, -55, -54, -53, -52, -51, -50, -49, -48, -47, -46, -45, -44, -43, -42, -41, -40, -39, -38, -37, -36, -35, -34, -33, -32, -31, -30, -29, -28, -27, -26, -25, -24, -23, -22, -21, -20, -19, -18, -17, -16, -15, -14, -13, -12, -11, -10, -9, -8, -7, -6, -5, -4, -3, -2, -1, 0, 1, 2, 3, 4, 5, 6, 7, 8, 9, 10, 11, 12, 13, 14, 15, 16, 17, 18, 19, 20, 21, 22, 23, 24, 25, 26, 27, 28, 29, 30, 31, 32, 33, 34, 35, 36, 37, 38, 39, 40, 41, 42, 43, 44, 45, 46, 47, 48, 49, 50, 51, 52, 53, 54, 55, 56, 57, 58, 59, 60, 61, 62, 63, 64, 65, 66, 67, 68, 69, 70, 71, 72, 73, 74, 75, 76, 77, 78, 79, 80, 81, 82, 83, 84, 85, 86, 87, 88, 89, 90, 91, 92, 93, 94, 95, 96, 97, 98, 99, 100]\n",
      "[-100, -97, -94, -91, -88, -85, -82, -79, -76, -73, -70, -67, -64, -61, -58, -55, -52, -49, -46, -43, -40, -37, -34, -31, -28, -25, -22, -19, -16, -13, -10, -7, -4, -1, 2, 5, 8, 11, 14, 17, 20, 23, 26, 29, 32, 35, 38, 41, 44, 47, 50, 53, 56, 59, 62, 65, 68, 71, 74, 77, 80, 83, 86, 89, 92, 95, 98]\n"
     ]
    }
   ],
   "source": [
    "minrange = -100\n",
    "maxrange = 100\n",
    "range_list = list(range(minrange, maxrange +1))\n",
    "print(range_list)\n",
    "print(range_list[::interval])"
   ]
  },
  {
   "cell_type": "markdown",
   "id": "e83c0e42",
   "metadata": {},
   "source": [
    "## Generator Functions"
   ]
  },
  {
   "cell_type": "code",
   "execution_count": 18,
   "id": "d1880812",
   "metadata": {},
   "outputs": [
    {
     "name": "stdout",
     "output_type": "stream",
     "text": [
      "i random int\n",
      "5\n",
      "7\n",
      "8\n",
      "5\n",
      "1\n",
      "0\n",
      "4\n",
      "10\n",
      "8\n",
      "9\n"
     ]
    }
   ],
   "source": [
    "import random\n",
    "print(\"i random int\")\n",
    "for i in range(10):\n",
    "    print(random.randint(0,10))\n",
    "    "
   ]
  },
  {
   "cell_type": "code",
   "execution_count": 19,
   "id": "7e8e4944",
   "metadata": {},
   "outputs": [
    {
     "data": {
      "text/plain": [
       "[-10, -9, -8, -7, -6, -5, -4, -3, -2, -1, 0, 1, 2, 3, 4, 5, 6, 7, 8, 9, 10]"
      ]
     },
     "execution_count": 19,
     "metadata": {},
     "output_type": "execute_result"
    }
   ],
   "source": [
    "minrange = -10\n",
    "maxrange = 10\n",
    "# x = list(range(minrange, maxrange +1))\n",
    "x = [i for i in range(minrange, maxrange + 1)]\n",
    "x"
   ]
  },
  {
   "cell_type": "code",
   "execution_count": 20,
   "id": "072c3afa",
   "metadata": {},
   "outputs": [
    {
     "data": {
      "text/plain": [
       "['a', 'a', 'a', 'a', 'a', 'a', 'a', 'a', 'a', 'a']"
      ]
     },
     "execution_count": 20,
     "metadata": {},
     "output_type": "execute_result"
    }
   ],
   "source": [
    "x = [\"a\" for i in range(10)]\n",
    "x"
   ]
  },
  {
   "cell_type": "code",
   "execution_count": 21,
   "id": "8d200e3d",
   "metadata": {},
   "outputs": [
    {
     "data": {
      "text/plain": [
       "[1, 1, 1, 1, 1, 1, 1, 1, 1, 1]"
      ]
     },
     "execution_count": 21,
     "metadata": {},
     "output_type": "execute_result"
    }
   ],
   "source": [
    "x = [1 for i in range(10)]\n",
    "x"
   ]
  },
  {
   "cell_type": "markdown",
   "id": "8cef243a",
   "metadata": {},
   "source": [
    "Determine list values according to an equation"
   ]
  },
  {
   "cell_type": "markdown",
   "id": "d803e9d3",
   "metadata": {},
   "source": [
    "$$y = 2x^2 + 3x + 1$$"
   ]
  },
  {
   "cell_type": "code",
   "execution_count": 22,
   "id": "f481b1ca",
   "metadata": {},
   "outputs": [
    {
     "name": "stdout",
     "output_type": "stream",
     "text": [
      "[-10, -9, -8, -7, -6, -5, -4, -3, -2, -1, 0, 1, 2, 3, 4, 5, 6, 7, 8, 9, 10]\n",
      "[171, 136, 105, 78, 55, 36, 21, 10, 3, 0, 1, 6, 15, 28, 45, 66, 91, 120, 153, 190, 231]\n"
     ]
    },
    {
     "data": {
      "text/plain": [
       "[(-10, 171),\n",
       " (-9, 136),\n",
       " (-8, 105),\n",
       " (-7, 78),\n",
       " (-6, 55),\n",
       " (-5, 36),\n",
       " (-4, 21),\n",
       " (-3, 10),\n",
       " (-2, 3),\n",
       " (-1, 0),\n",
       " (0, 1),\n",
       " (1, 6),\n",
       " (2, 15),\n",
       " (3, 28),\n",
       " (4, 45),\n",
       " (5, 66),\n",
       " (6, 91),\n",
       " (7, 120),\n",
       " (8, 153),\n",
       " (9, 190),\n",
       " (10, 231)]"
      ]
     },
     "execution_count": 22,
     "metadata": {},
     "output_type": "execute_result"
    }
   ],
   "source": [
    "x_list = [x for x in range(minrange, maxrange + 1)]\n",
    "y = [2 * x ** 2 + 3 * x + 1 for x in range(minrange, maxrange +1)]\n",
    "print(x_list)\n",
    "print(y)\n",
    "#zip(list_a, list_b) creates a single list of tuples of the form:\n",
    "# [(a0,b0), (a1, b1), ...., (a_(n-1), b_(n-1)), (an, bn)]\n",
    "list(zip(x_list,y))"
   ]
  },
  {
   "cell_type": "code",
   "execution_count": 23,
   "id": "7d67bc21",
   "metadata": {},
   "outputs": [
    {
     "data": {
      "text/plain": [
       "[<matplotlib.lines.Line2D at 0x1eb8ec0bf90>]"
      ]
     },
     "execution_count": 23,
     "metadata": {},
     "output_type": "execute_result"
    },
    {
     "data": {
      "image/png": "[encoded data removed]",
      "text/plain": [
       "<Figure size 640x480 with 1 Axes>"
      ]
     },
     "metadata": {},
     "output_type": "display_data"
    }
   ],
   "source": [
    "import matplotlib.pyplot as plt\n",
    "plt.plot(x_list,y)"
   ]
  },
  {
   "cell_type": "markdown",
   "id": "5e7b4a83",
   "metadata": {},
   "source": [
    "You don't always have to use the value from the for loop. The index in the for loop can define how many times a task is completed rather than indicating what a value should be"
   ]
  },
  {
   "cell_type": "code",
   "execution_count": 24,
   "id": "e6c46312",
   "metadata": {},
   "outputs": [
    {
     "name": "stdout",
     "output_type": "stream",
     "text": [
      "[-10, -9, -8, -7, -6, -5, -4, -3, -2, -1, 0, 1, 2, 3, 4, 5, 6, 7, 8, 9, 10]\n",
      "[0, -24300, -24000, -14700, -16200, -4500, -3600, -1800, -6600, -2100, 0, 2700, 4800, 9000, 9600, 0, 7200, 6300, 26400, 24300, 9000]\n"
     ]
    }
   ],
   "source": [
    "y = [random.randint(0, maxrange +1) *300 * x for x in x_list]\n",
    "print(x_list)\n",
    "print(y)"
   ]
  },
  {
   "cell_type": "code",
   "execution_count": 25,
   "id": "c0832927",
   "metadata": {},
   "outputs": [
    {
     "data": {
      "text/plain": [
       "<matplotlib.collections.PathCollection at 0x1eb8f4dc850>"
      ]
     },
     "execution_count": 25,
     "metadata": {},
     "output_type": "execute_result"
    },
    {
     "data": {
      "image/png": "[encoded data removed]",
      "text/plain": [
       "<Figure size 640x480 with 1 Axes>"
      ]
     },
     "metadata": {},
     "output_type": "display_data"
    }
   ],
   "source": [
    "plt.scatter(x_list,y)"
   ]
  },
  {
   "cell_type": "code",
   "execution_count": 26,
   "id": "430949c1",
   "metadata": {},
   "outputs": [
    {
     "data": {
      "text/plain": [
       "[<matplotlib.lines.Line2D at 0x1eb8f59e390>]"
      ]
     },
     "execution_count": 26,
     "metadata": {},
     "output_type": "execute_result"
    },
    {
     "data": {
      "image/png": "[encoded data removed]",
      "text/plain": [
       "<Figure size 640x480 with 1 Axes>"
      ]
     },
     "metadata": {},
     "output_type": "display_data"
    }
   ],
   "source": [
    "y = [random.randint(minrange, maxrange +1) for x in range(minrange, maxrange +1)]\n",
    "y\n",
    "plt.plot(y)"
   ]
  },
  {
   "cell_type": "markdown",
   "id": "9388fd6a",
   "metadata": {},
   "source": [
    "## Managing Lists By Index"
   ]
  },
  {
   "cell_type": "code",
   "execution_count": 27,
   "id": "e8c5f315",
   "metadata": {},
   "outputs": [
    {
     "data": {
      "text/plain": [
       "[-10, -9, -8, -7, -6, -5, -4, -3, -2, -1, 0, 1, 2, 3, 4, 5, 6, 7, 8, 9, 10]"
      ]
     },
     "execution_count": 27,
     "metadata": {},
     "output_type": "execute_result"
    }
   ],
   "source": [
    "x_list"
   ]
  },
  {
   "cell_type": "code",
   "execution_count": 28,
   "id": "0d98f1b9",
   "metadata": {},
   "outputs": [
    {
     "name": "stdout",
     "output_type": "stream",
     "text": [
      "[-1, 0, -5, 6, 5, -5, -1, -2, 0, 3, -5, 8, 0, -6, 3, 9, -4, 7, 3, -10, -10]\n"
     ]
    }
   ],
   "source": [
    "print(y)"
   ]
  },
  {
   "cell_type": "code",
   "execution_count": 29,
   "id": "5b39916f",
   "metadata": {},
   "outputs": [
    {
     "data": {
      "text/plain": [
       "(21, 21)"
      ]
     },
     "execution_count": 29,
     "metadata": {},
     "output_type": "execute_result"
    }
   ],
   "source": [
    "len(x_list), len(y)"
   ]
  },
  {
   "cell_type": "code",
   "execution_count": 30,
   "id": "efd7e97b",
   "metadata": {},
   "outputs": [
    {
     "name": "stdout",
     "output_type": "stream",
     "text": [
      "x\ty\n",
      "-10\t-1\n",
      "-9\t0\n",
      "-8\t-5\n",
      "-7\t6\n",
      "-6\t5\n",
      "-5\t-5\n",
      "-4\t-1\n",
      "-3\t-2\n",
      "-2\t0\n",
      "-1\t3\n",
      "0\t-5\n",
      "1\t8\n",
      "2\t0\n",
      "3\t-6\n",
      "4\t3\n",
      "5\t9\n",
      "6\t-4\n",
      "7\t7\n",
      "8\t3\n",
      "9\t-10\n",
      "10\t-10\n"
     ]
    }
   ],
   "source": [
    "print(\"x\", \"y\", sep = \"\\t\")\n",
    "for i in range(len(x_list)):\n",
    "    print(x_list[i], y[i], sep = \"\\t\")"
   ]
  },
  {
   "cell_type": "code",
   "execution_count": 31,
   "id": "594d4e6c",
   "metadata": {},
   "outputs": [
    {
     "name": "stdout",
     "output_type": "stream",
     "text": [
      "y\tx\ty/(x+100)\n",
      "-1\t-10\t-0.011111111111111112\n",
      "0\t-9\t0.0\n",
      "-5\t-8\t-0.05434782608695652\n",
      "6\t-7\t0.06451612903225806\n",
      "5\t-6\t0.05319148936170213\n",
      "-5\t-5\t-0.05263157894736842\n",
      "-1\t-4\t-0.010416666666666666\n",
      "-2\t-3\t-0.020618556701030927\n",
      "0\t-2\t0.0\n",
      "3\t-1\t0.030303030303030304\n",
      "-5\t0\t-0.05\n",
      "8\t1\t0.07920792079207921\n",
      "0\t2\t0.0\n",
      "-6\t3\t-0.05825242718446602\n",
      "3\t4\t0.028846153846153848\n",
      "9\t5\t0.08571428571428572\n",
      "-4\t6\t-0.03773584905660377\n",
      "7\t7\t0.06542056074766354\n",
      "3\t8\t0.027777777777777776\n",
      "-10\t9\t-0.09174311926605505\n",
      "-10\t10\t-0.09090909090909091\n"
     ]
    }
   ],
   "source": [
    "print(\"y\", \"x\", \"y/(x+100)\", sep = \"\\t\")\n",
    "for i in range(len(x_list)):\n",
    "    print(y[i], x_list[i], y[i] / (x_list[i] + 100), sep = \"\\t\")"
   ]
  },
  {
   "cell_type": "markdown",
   "id": "4d38d4a1",
   "metadata": {},
   "source": [
    "## Delete (del)"
   ]
  },
  {
   "cell_type": "markdown",
   "id": "635a24ef",
   "metadata": {},
   "source": [
    "Delete very first element in a list (0th)\n",
    "Delete the very last (-1) element in a list"
   ]
  },
  {
   "cell_type": "code",
   "execution_count": 56,
   "id": "da6dc8e3",
   "metadata": {},
   "outputs": [
    {
     "name": "stdout",
     "output_type": "stream",
     "text": [
      "[-10, -9, -8, -7, -6, -5, -4, -3, -2, -1, 0, 1, 2, 3, 4, 5, 6, 7, 8, 9]\n",
      "[-1, 0, -5, 6, 5, -5, -1, -2, 0, 3, -5, 8, 0, -6, 3, 9, -4, 7, 3, -10]\n"
     ]
    }
   ],
   "source": [
    "print(x_list)\n",
    "print(y)"
   ]
  },
  {
   "cell_type": "code",
   "execution_count": 57,
   "id": "148242d3",
   "metadata": {},
   "outputs": [
    {
     "name": "stdout",
     "output_type": "stream",
     "text": [
      "[-10, -9, -8, -7, -6, -5, -4, -3, -2, -1, 0, 1, 2, 3, 4, 5, 6, 7, 8]\n",
      "[-1, 0, -5, 6, 5, -5, -1, -2, 0, 3, -5, 8, 0, -6, 3, 9, -4, 7, 3]\n"
     ]
    }
   ],
   "source": [
    "del x_list[-1]\n",
    "del y[-1]\n",
    "print(x_list)\n",
    "print(y)"
   ]
  },
  {
   "cell_type": "code",
   "execution_count": 58,
   "id": "20cddc7a",
   "metadata": {},
   "outputs": [
    {
     "data": {
      "text/plain": [
       "'a'"
      ]
     },
     "execution_count": 58,
     "metadata": {},
     "output_type": "execute_result"
    }
   ],
   "source": [
    "m = \"a\"\n",
    "m"
   ]
  },
  {
   "cell_type": "code",
   "execution_count": 35,
   "id": "df74ee3f",
   "metadata": {},
   "outputs": [
    {
     "ename": "NameError",
     "evalue": "name 'm' is not defined",
     "output_type": "error",
     "traceback": [
      "\u001b[1;31m---------------------------------------------------------------------------\u001b[0m",
      "\u001b[1;31mNameError\u001b[0m                                 Traceback (most recent call last)",
      "Cell \u001b[1;32mIn[35], line 2\u001b[0m\n\u001b[0;32m      1\u001b[0m \u001b[38;5;28;01mdel\u001b[39;00m m\n\u001b[1;32m----> 2\u001b[0m m\n",
      "\u001b[1;31mNameError\u001b[0m: name 'm' is not defined"
     ]
    }
   ],
   "source": [
    "del m\n",
    "m"
   ]
  },
  {
   "cell_type": "markdown",
   "id": "a41d2beb",
   "metadata": {},
   "source": [
    "## Sorting"
   ]
  },
  {
   "cell_type": "code",
   "execution_count": 48,
   "id": "361cac95",
   "metadata": {},
   "outputs": [
    {
     "name": "stdout",
     "output_type": "stream",
     "text": [
      "[3, 1, 1, 3, 8, 4, 10, 3, 9, 6, 6, 9, 10, 6, 7, 2, 6, 8, 10, 8, 8, 7, 6, 9, 9, 1, 7, 4, 7, 8, 1, 3, 0, 8, 6, 0, 1, 9, 10, 9, 8, 2, 7, 0, 4, 9, 7, 6, 6, 7, 10, 2, 4, 0, 0, 3, 4, 0, 0, 3, 3, 0, 7, 9, 2, 7, 3, 10, 0, 0, 0, 6, 5, 4, 2, 10, 6, 8, 10, 4, 9, 9, 7, 4, 3, 8, 2, 2, 1, 3, 8, 3, 8, 1, 10, 5, 7, 3, 0, 4]\n"
     ]
    }
   ],
   "source": [
    "x = [random.randint(0,10) for i in range(100)]\n",
    "print(x)"
   ]
  },
  {
   "cell_type": "code",
   "execution_count": 49,
   "id": "522d9d5f",
   "metadata": {},
   "outputs": [
    {
     "name": "stdout",
     "output_type": "stream",
     "text": [
      "[0, 0, 0, 0, 0, 0, 0, 0, 0, 0, 0, 0, 1, 1, 1, 1, 1, 1, 1, 2, 2, 2, 2, 2, 2, 2, 3, 3, 3, 3, 3, 3, 3, 3, 3, 3, 3, 3, 4, 4, 4, 4, 4, 4, 4, 4, 4, 5, 5, 6, 6, 6, 6, 6, 6, 6, 6, 6, 6, 7, 7, 7, 7, 7, 7, 7, 7, 7, 7, 7, 8, 8, 8, 8, 8, 8, 8, 8, 8, 8, 8, 9, 9, 9, 9, 9, 9, 9, 9, 9, 9, 10, 10, 10, 10, 10, 10, 10, 10, 10]\n"
     ]
    }
   ],
   "source": [
    "print(sorted(x))"
   ]
  },
  {
   "cell_type": "code",
   "execution_count": 50,
   "id": "0db5df64",
   "metadata": {},
   "outputs": [
    {
     "name": "stdout",
     "output_type": "stream",
     "text": [
      "[10, 10, 10, 10, 10, 10, 10, 10, 10, 9, 9, 9, 9, 9, 9, 9, 9, 9, 9, 8, 8, 8, 8, 8, 8, 8, 8, 8, 8, 8, 7, 7, 7, 7, 7, 7, 7, 7, 7, 7, 7, 6, 6, 6, 6, 6, 6, 6, 6, 6, 6, 5, 5, 4, 4, 4, 4, 4, 4, 4, 4, 4, 3, 3, 3, 3, 3, 3, 3, 3, 3, 3, 3, 3, 2, 2, 2, 2, 2, 2, 2, 1, 1, 1, 1, 1, 1, 1, 0, 0, 0, 0, 0, 0, 0, 0, 0, 0, 0, 0]\n"
     ]
    }
   ],
   "source": [
    "# sort backward from largest number to smallest\n",
    "print(sorted(x, reverse=True))"
   ]
  },
  {
   "cell_type": "code",
   "execution_count": 51,
   "id": "5e0a4169",
   "metadata": {},
   "outputs": [
    {
     "name": "stdout",
     "output_type": "stream",
     "text": [
      "[10, 10, 10, 10, 10, 10, 10, 10, 10, 9, 9, 9, 9, 9, 9, 9, 9, 9, 9, 8, 8, 8, 8, 8, 8, 8, 8, 8, 8, 8, 7, 7, 7, 7, 7, 7, 7, 7, 7, 7, 7, 6, 6, 6, 6, 6, 6, 6, 6, 6, 6, 5, 5, 4, 4, 4, 4, 4, 4, 4, 4, 4, 3, 3, 3, 3, 3, 3, 3, 3, 3, 3, 3, 3, 2, 2, 2, 2, 2, 2, 2, 1, 1, 1, 1, 1, 1, 1, 0, 0, 0, 0, 0, 0, 0, 0, 0, 0, 0, 0]\n"
     ]
    }
   ],
   "source": [
    "# another way to sort backwards\n",
    "print(sorted(x)[-1::-1])"
   ]
  },
  {
   "cell_type": "code",
   "execution_count": 52,
   "id": "ddd5ed23",
   "metadata": {},
   "outputs": [
    {
     "name": "stdout",
     "output_type": "stream",
     "text": [
      "['a', 'b', 'c', 'd', 'e', 'f', 'g', 'h', 'i', 'j', 'k', 'l', 'm', 'n', 'o', 'p']\n"
     ]
    }
   ],
   "source": [
    "print(sorted(\"abcdefghijklmnop\"))"
   ]
  },
  {
   "cell_type": "code",
   "execution_count": 53,
   "id": "1c623b9e",
   "metadata": {},
   "outputs": [
    {
     "name": "stdout",
     "output_type": "stream",
     "text": [
      "['p', 'o', 'n', 'm', 'l', 'k', 'j', 'i', 'h', 'g', 'f', 'e', 'd', 'c', 'b', 'a']\n"
     ]
    }
   ],
   "source": [
    "print(sorted(\"abcdefghijklmnop\", reverse = True))"
   ]
  },
  {
   "cell_type": "code",
   "execution_count": 54,
   "id": "7622bd28",
   "metadata": {},
   "outputs": [
    {
     "name": "stdout",
     "output_type": "stream",
     "text": [
      "['1', '2', '3', '4']\n"
     ]
    }
   ],
   "source": [
    "print(sorted([\"1\", \"2\", \"3\", \"4\"]))"
   ]
  },
  {
   "cell_type": "code",
   "execution_count": 55,
   "id": "fc29e1e0",
   "metadata": {},
   "outputs": [
    {
     "name": "stdout",
     "output_type": "stream",
     "text": [
      "[1, 2, 3, 4]\n"
     ]
    }
   ],
   "source": [
    "print(sorted([1,2,3,4]))"
   ]
  },
  {
   "cell_type": "markdown",
   "id": "9b9d9c4a",
   "metadata": {},
   "source": [
    "## Slicing Lists"
   ]
  },
  {
   "cell_type": "code",
   "execution_count": 44,
   "id": "45bd42cf",
   "metadata": {},
   "outputs": [
    {
     "name": "stdout",
     "output_type": "stream",
     "text": [
      "[1, 1, 1, 1, 1, 1, 1, 1, 1, 1]\n"
     ]
    }
   ],
   "source": [
    "print(x)"
   ]
  },
  {
   "cell_type": "code",
   "execution_count": 45,
   "id": "87a5ace9",
   "metadata": {},
   "outputs": [
    {
     "name": "stdout",
     "output_type": "stream",
     "text": [
      "[1, 1, 1, 1, 1]\n"
     ]
    }
   ],
   "source": [
    "# format for slicing\n",
    "# x[min:max:interval]\n",
    "print(x[::2])"
   ]
  },
  {
   "cell_type": "code",
   "execution_count": 46,
   "id": "1072380a",
   "metadata": {},
   "outputs": [
    {
     "name": "stdout",
     "output_type": "stream",
     "text": [
      "[1, 1, 1, 1, 1, 1, 1, 1, 1, 1]\n"
     ]
    }
   ],
   "source": [
    "# only print the first 10 values of x (from 0-9)\n",
    "print(x[:10])"
   ]
  },
  {
   "cell_type": "code",
   "execution_count": 47,
   "id": "5e0bc413",
   "metadata": {},
   "outputs": [
    {
     "name": "stdout",
     "output_type": "stream",
     "text": [
      "[1, 1, 1, 1, 1, 1, 1, 1, 1, 1]\n"
     ]
    }
   ],
   "source": [
    "# only print the last 10 values of x (from 0-9)\n",
    "print(x[-10:])"
   ]
  },
  {
   "cell_type": "markdown",
   "id": "83f9c38f",
   "metadata": {},
   "source": [
    "### Cut a list in half"
   ]
  },
  {
   "cell_type": "code",
   "execution_count": 41,
   "id": "854b5e3a",
   "metadata": {},
   "outputs": [],
   "source": [
    "mid_x = int(len(x) /2)"
   ]
  },
  {
   "cell_type": "code",
   "execution_count": 42,
   "id": "094a24e2",
   "metadata": {},
   "outputs": [
    {
     "name": "stdout",
     "output_type": "stream",
     "text": [
      "[1, 1, 1, 1, 1]\n"
     ]
    }
   ],
   "source": [
    "print(x[:mid_x])"
   ]
  },
  {
   "cell_type": "code",
   "execution_count": 43,
   "id": "ceb761c3",
   "metadata": {},
   "outputs": [
    {
     "name": "stdout",
     "output_type": "stream",
     "text": [
      "[1, 1, 1, 1, 1]\n"
     ]
    }
   ],
   "source": [
    "#last half\n",
    "print(x[mid_x:])"
   ]
  },
  {
   "cell_type": "markdown",
   "id": "296e7c6a",
   "metadata": {},
   "source": [
    "## Nested For Loop"
   ]
  },
  {
   "cell_type": "code",
   "execution_count": 36,
   "id": "84f7b99b",
   "metadata": {},
   "outputs": [
    {
     "name": "stdout",
     "output_type": "stream",
     "text": [
      "i j i + j\n",
      "0 0 0\n",
      "0 1 1\n",
      "0 2 2\n",
      "0 3 3\n",
      "1 0 1\n",
      "1 1 2\n",
      "1 2 3\n",
      "1 3 4\n",
      "2 0 2\n",
      "2 1 3\n",
      "2 2 4\n",
      "2 3 5\n",
      "3 0 3\n",
      "3 1 4\n",
      "3 2 5\n",
      "3 3 6\n"
     ]
    }
   ],
   "source": [
    "print(\"i\", \"j\", \"i + j\")\n",
    "for i in range(4):\n",
    "    for j in range(4):\n",
    "        print(i, j, i + j)\n",
    "    "
   ]
  },
  {
   "cell_type": "code",
   "execution_count": 37,
   "id": "0c6b21df",
   "metadata": {},
   "outputs": [
    {
     "data": {
      "text/plain": [
       "[1, 1, 1]"
      ]
     },
     "execution_count": 37,
     "metadata": {},
     "output_type": "execute_result"
    }
   ],
   "source": [
    "x_slice = x[:3]\n",
    "x_slice"
   ]
  },
  {
   "cell_type": "code",
   "execution_count": 38,
   "id": "c6be89b1",
   "metadata": {},
   "outputs": [
    {
     "data": {
      "text/plain": [
       "[1, 1, 1, 4]"
      ]
     },
     "execution_count": 38,
     "metadata": {},
     "output_type": "execute_result"
    }
   ],
   "source": [
    "x_slice.append(4)\n",
    "x_slice"
   ]
  },
  {
   "cell_type": "code",
   "execution_count": 39,
   "id": "eacdeff6",
   "metadata": {},
   "outputs": [
    {
     "data": {
      "text/plain": [
       "[1, 1, 1]"
      ]
     },
     "execution_count": 39,
     "metadata": {},
     "output_type": "execute_result"
    }
   ],
   "source": [
    "last_xslice = x_slice.pop()\n",
    "x_slice"
   ]
  },
  {
   "cell_type": "code",
   "execution_count": 40,
   "id": "c23e6b76",
   "metadata": {},
   "outputs": [
    {
     "data": {
      "text/plain": [
       "4"
      ]
     },
     "execution_count": 40,
     "metadata": {},
     "output_type": "execute_result"
    }
   ],
   "source": [
    "last_xslice"
   ]
  }
 ],
 "metadata": {
  "kernelspec": {
   "display_name": "Python 3 (ipykernel)",
   "language": "python",
   "name": "python3"
  },
  "language_info": {
   "codemirror_mode": {
    "name": "ipython",
    "version": 3
   },
   "file_extension": ".py",
   "mimetype": "text/x-python",
   "name": "python",
   "nbconvert_exporter": "python",
   "pygments_lexer": "ipython3",
   "version": "3.11.4"
  }
 },
 "nbformat": 4,
 "nbformat_minor": 5
}
