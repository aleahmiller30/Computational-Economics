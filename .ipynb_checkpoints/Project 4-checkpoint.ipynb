{
 "cells": [
  {
   "cell_type": "markdown",
   "id": "5a7443d2",
   "metadata": {},
   "source": [
    "# Project 4: Chapter 4: Functional Programming\n",
    "Statistical Functions"
   ]
  },
  {
   "cell_type": "code",
   "execution_count": null,
   "id": "f431a90c",
   "metadata": {},
   "outputs": [],
   "source": [
    "import random"
   ]
  },
  {
   "cell_type": "code",
   "execution_count": null,
   "id": "dd10ce8c",
   "metadata": {},
   "outputs": [],
   "source": [
    "def total(lst):\n",
    "    total_ = 0\n",
    "# n = len(lst)\n",
    "# for i in range (n):\n",
    "# total_ = lst[i]\n",
    "    \n",
    "    for val in lst:\n",
    "        total_ += val\n",
    "    return total_\n",
    "\n",
    "X1 = [i for i in range(3, 31,3)]\n",
    "X2 = [random.randint(0,100) for i in range(100)]\n",
    "print(\"X1\", X1)\n",
    "print(\"X2\", X2)"
   ]
  },
  {
   "cell_type": "code",
   "execution_count": null,
   "id": "a6cc0138",
   "metadata": {},
   "outputs": [],
   "source": [
    "total1 = total(X1)\n",
    "total2 = total(X2)\n",
    "print(\"Total of X1:\", total1)\n",
    "print(\"Total of X2:\", total2)"
   ]
  },
  {
   "cell_type": "code",
   "execution_count": null,
   "id": "d07c4f43",
   "metadata": {},
   "outputs": [],
   "source": [
    "sum(X1), sum(X2)"
   ]
  },
  {
   "cell_type": "markdown",
   "id": "d482c893",
   "metadata": {},
   "source": [
    "### Mean"
   ]
  },
  {
   "cell_type": "code",
   "execution_count": null,
   "id": "f89c0e4e",
   "metadata": {},
   "outputs": [],
   "source": [
    "def mean(lst):\n",
    "    n= len(lst)\n",
    "    mean_ = total(lst) / n\n",
    "    return mean_"
   ]
  },
  {
   "cell_type": "code",
   "execution_count": null,
   "id": "2d962f96",
   "metadata": {},
   "outputs": [],
   "source": [
    "print(\"Mean of X1\", mean(X1))\n",
    "print(\"Mean of X2\", mean(X2))"
   ]
  },
  {
   "cell_type": "code",
   "execution_count": null,
   "id": "7db2eb58",
   "metadata": {},
   "outputs": [],
   "source": [
    "import numpy as np\n",
    "np.mean(X1), np.mean(X2)"
   ]
  },
  {
   "cell_type": "markdown",
   "id": "39d0d52e",
   "metadata": {},
   "source": [
    "### Median"
   ]
  },
  {
   "cell_type": "markdown",
   "id": "649f9bea",
   "metadata": {},
   "source": [
    "The median is either 1) the value that appears exactly in the middle of the ordered list if the length of the list is odd or 2) the average of the two middle values that appear in the middle of the list if the length is even"
   ]
  },
  {
   "cell_type": "code",
   "execution_count": null,
   "id": "0a514060",
   "metadata": {},
   "outputs": [],
   "source": [
    "def median(lst):\n",
    "    n = len(lst)\n",
    "    lst = sorted(lst)\n",
    "# the percent opperator calculates the remainder\n",
    "    if n % 2 != 0:\n",
    "        # Case 1: list length is odd\n",
    "        # coerce float to int\n",
    "        middle_index = int((n-1) / 2)\n",
    "        median_ = lst[middle_index]\n",
    "        # Case 2: list is even in length\n",
    "        ## take the average of the middle two values\n",
    "    else:\n",
    "        upper_middle_index = int(n /2)\n",
    "        lower_middle_index = upper_middle_index - 1\n",
    "        median_ = mean(lst[lower_middle_index : upper_middle_index +1])\n",
    "    return median_\n",
    "median1 = median(X1)\n",
    "median2 = median(X2)\n",
    "print(\"Median of X1\", median1)\n",
    "print(\"Median of X2\", median2)"
   ]
  },
  {
   "cell_type": "code",
   "execution_count": null,
   "id": "e24b2aae",
   "metadata": {},
   "outputs": [],
   "source": [
    "median((X1) + [100])"
   ]
  },
  {
   "cell_type": "code",
   "execution_count": null,
   "id": "06f0f2b6",
   "metadata": {},
   "outputs": [],
   "source": [
    "median(X1 +[20,100])"
   ]
  },
  {
   "cell_type": "markdown",
   "id": "f2372727",
   "metadata": {},
   "source": [
    "### Mode"
   ]
  },
  {
   "cell_type": "code",
   "execution_count": null,
   "id": "82cd8279",
   "metadata": {},
   "outputs": [],
   "source": [
    "def mode(lst):\n",
    "    # use to record value(s) \n",
    "    max_count = 0\n",
    "    counter_dict = {}\n",
    "    for value in lst:\n",
    "        counter_dict[value] = 0\n",
    "    for value in lst:\n",
    "        counter_dict[value] += 1\n",
    "    max_count = max(counter_dict.values())\n",
    "    # mode_ = [key for key in counter_dict.keys() if counter_dict[key] == max_count]\n",
    "    mode_ = [key for key, count in counter_dict.items() if count == max_count]\n",
    "    \n",
    "    return mode_\n",
    "print(\"Mode of X1\", mode(X1))\n",
    "print(\"Mode of X2\", mode(X2))"
   ]
  },
  {
   "cell_type": "markdown",
   "id": "ba3ab0d2",
   "metadata": {},
   "source": [
    "### Variance"
   ]
  },
  {
   "cell_type": "code",
   "execution_count": null,
   "id": "8901855e",
   "metadata": {},
   "outputs": [],
   "source": [
    "def variance(lst, sample = True):\n",
    "    # popvar(list) - sum(xi - list_mean)**2 / n for all xi in list\n",
    "    # save mean value of list\n",
    "    list_mean = mean(lst)\n",
    "    # use n to calculate average of sum squared diffs\n",
    "    n = len(lst)\n",
    "    DoF = n - 1\n",
    "    \n",
    "    sum_sq_diff = 0\n",
    "    for val in lst:\n",
    "        sum_sq_diff += (val - list_mean) ** 2\n",
    "    # Case 1: list of values represent entire population\n",
    "    if sample == False:\n",
    "        # normalize result by dividing by n\n",
    "        variance_ = sum_sq_diff / n\n",
    "    # Case 2: list of values represent a sample\n",
    "    else:\n",
    "        # divide by DoF for sample\n",
    "        variance_ = sum_sq_diff / DoF\n",
    "    return variance_\n",
    "print(\"Variance of X1:\", variance(X1))\n",
    "print(\"Variance pf X2:\", variance(X2))\n",
    "    "
   ]
  },
  {
   "cell_type": "code",
   "execution_count": null,
   "id": "be4b1631",
   "metadata": {},
   "outputs": [],
   "source": [
    "import matplotlib.pyplot as plt\n",
    "fig, ax = plt.subplots(figsize = (20,10))\n",
    "ax.plot(X2, ls = \"\", marker = \".\", markersize = 50)\n",
    "ax.axhline(mean(X2), linewidth = 5, alpha = .5, ls = \"--\", color = \"k\")\n",
    "ax.text(0, mean(X2), \"Mean(X2)\", va = \"bottom\", fontsize = 30)"
   ]
  },
  {
   "cell_type": "markdown",
   "id": "df418dc6",
   "metadata": {},
   "source": [
    "### Standard Deviation"
   ]
  },
  {
   "cell_type": "code",
   "execution_count": null,
   "id": "a8b2ee17",
   "metadata": {},
   "outputs": [],
   "source": [
    "# standard deviation \n",
    "def SD(lst, sample = True):\n",
    "    #standard deviation is the square root of variance\n",
    "    SD_ = variance(lst, sample) ** (1/2)\n",
    "    return SD_\n",
    "print(\"SD of X1:\", SD(X1))\n",
    "print(\"SD of X2:\", SD(X2))"
   ]
  },
  {
   "cell_type": "markdown",
   "id": "6dc3fc67",
   "metadata": {},
   "source": [
    "### Standard Error"
   ]
  },
  {
   "cell_type": "code",
   "execution_count": null,
   "id": "db87d016",
   "metadata": {},
   "outputs": [],
   "source": [
    "def STE(lst, sample = True):\n",
    "    n = len(lst)\n",
    "    se = SD(lst, sample) / n**(1/2)\n",
    "    return se\n",
    "print(\"STE of X1\", STE(X1))\n",
    "print(\"STE of X2\", STE(X2))"
   ]
  },
  {
   "cell_type": "markdown",
   "id": "aff3d066",
   "metadata": {},
   "source": [
    "### Covariance\n",
    "$cov_{pop}(x,y) = \\frac{\\sum_{i=0}^{n-1}{(x_i-x_{mean})(y_i - y_{mean}}}{n}$"
   ]
  },
  {
   "cell_type": "code",
   "execution_count": null,
   "id": "5f14d3ff",
   "metadata": {},
   "outputs": [],
   "source": [
    "# if both lists were identical then wed be calculating the variance\n",
    "\n",
    "def covariance(x, y, sample = False):\n",
    "    meanx = mean(x)\n",
    "    meany = mean(y)\n",
    "    \n",
    "    cov = 0\n",
    "    nx = len(x)\n",
    "    ny = len(y)\n",
    "    if nx == ny:\n",
    "        n = nx\n",
    "        for i in range(n):\n",
    "            cov += (x[i] - meanx) * (y[i] - meany)\n",
    "        if sample == False:\n",
    "            cov = cov / n\n",
    "        else:\n",
    "            cov = cov / (n-1)\n",
    "        return cov\n",
    "    else:\n",
    "        print(\"List lengths are not equal.\", nx, \"!=\", ny)\n"
   ]
  },
  {
   "cell_type": "code",
   "execution_count": null,
   "id": "1ec0c705",
   "metadata": {},
   "outputs": [],
   "source": [
    "covx1x2 = covariance(X1, X2[:10])\n",
    "covx1x2"
   ]
  },
  {
   "cell_type": "code",
   "execution_count": null,
   "id": "e7db1c15",
   "metadata": {},
   "outputs": [],
   "source": [
    "covx1x2 = covariance(X1, X2[1:])\n",
    "covx1x2"
   ]
  },
  {
   "cell_type": "markdown",
   "id": "9e7b7fbe",
   "metadata": {},
   "source": [
    "### Correlation\n",
    "negative correlation is -1, positive correlation is 1, and no correlation is 0\n",
    "\n",
    "$corr(x,y) = \\frac{cov(x,y)}{\\sigma_x * \\sigma_y}}\n",
    "\n",
    "correlation normalizes $cov(x,y)$ by dividing out the standard deviation $\\sigma_x$ and $\\sigma_y$."
   ]
  },
  {
   "cell_type": "code",
   "execution_count": null,
   "id": "9ace0e41",
   "metadata": {},
   "outputs": [],
   "source": [
    "def correlation(x,y):\n",
    "    cov = covariance(x,y)\n",
    "    SDx = SD(x)\n",
    "    SDy = SD(y)\n",
    "    corr = cov / (SDx * SDy)\n",
    "    return corr\n",
    "corr_X1_X2 = correlation(X1,X2[:10])\n",
    "corr_X1_X2"
   ]
  },
  {
   "cell_type": "code",
   "execution_count": null,
   "id": "0a3ae5ca",
   "metadata": {},
   "outputs": [],
   "source": [
    "import numpy as np\n",
    "import pandas as pd\n",
    "import matplotlib as plt\n",
    "from scipy import stats"
   ]
  },
  {
   "cell_type": "code",
   "execution_count": null,
   "id": "c1133df5",
   "metadata": {},
   "outputs": [],
   "source": [
    "simpsons = {j:[np.random.normal() * 20 +int(i/10)\\\n",
    "              for i in range(1000)] for j in range (10)}\n",
    "pd.DataFrame(simpsons).tail()"
   ]
  },
  {
   "cell_type": "code",
   "execution_count": null,
   "id": "0cccacfd",
   "metadata": {},
   "outputs": [],
   "source": [
    "values = []\n",
    "for j in simpsons.keys():\n",
    "    ix_interval = j * 100\n",
    "    simpsons[j] = pd.DataFrame(simpsons[j], index = np.arange(ix_interval, len(simpsons[j]) + ix_interval)).sub(j * 35)\n",
    "    simpsons[j][\"Index\"] = simpsons[j].index\n",
    "    simpsons[j][\"Entity\"] = int(j)\n",
    "    values = values + list(simpsons[j].values)\n",
    "stacked_simpsons = pd.DataFrame(values, columns = [\"y\", \"x\", \"Entity\"])\n",
    "stacked_simpsons.head()"
   ]
  },
  {
   "cell_type": "code",
   "execution_count": null,
   "id": "ac1dbf43",
   "metadata": {},
   "outputs": [],
   "source": [
    "stacked_simpsons.corr()[\"x\"][\"y\"]\n",
    "#correlation(stacked_simpsons[\"x\"], stacked_simpsons[\"y\"])\n",
    "stacked_simpsons.groupby(\"Entity\").corr().round(2)"
   ]
  },
  {
   "cell_type": "code",
   "execution_count": null,
   "id": "7f7f12b8",
   "metadata": {
    "scrolled": true
   },
   "outputs": [],
   "source": [
    "import matplotlib.pyplot as plt\n",
    "plt.rcParams.update({\"font.size\" :26})\n",
    "fig, ax = plt.subplots(figsize = (20,10))\n",
    "stacked_simpsons.plot.scatter(x = \"x\",\n",
    "                             y = \"y\",\n",
    "                             s = 2, \n",
    "                             c = \"C0\",\n",
    "                             ax = ax)\n",
    "pooled_correlations = str(correlation(stacked_simpsons[\"x\"], stacked_simpsons[\"y\"]))\n",
    "ax.set_title(\"Data appears to be negatively correlated\\n\" + pooled_correlations)"
   ]
  },
  {
   "cell_type": "code",
   "execution_count": null,
   "id": "35b36a5d",
   "metadata": {},
   "outputs": [],
   "source": [
    "corr_by_entity = stacked_simpsons.groupby(\"Entity\").corr().round(2)\n",
    "corr_by_entity[\n",
    "    corr_by_entity.index.get_level_values(1) == \"x\"][\"y\"]"
   ]
  },
  {
   "cell_type": "code",
   "execution_count": null,
   "id": "1287afb3",
   "metadata": {},
   "outputs": [],
   "source": [
    "import matplotlib.cm as cm\n",
    "fig, ax = plt.subplots(figsize=(20,10))\n",
    "stacked_simpsons.plot.scatter(x =\"x\",\n",
    "                             y = \"y\",\n",
    "                             s = 2,\n",
    "                             #alpha = 0.1\n",
    "                             c = \"Entity\",\n",
    "                             cmap = \"tab10\",\n",
    "                             ax = ax)\n",
    "ax.set_title(\"With Group Controls Correlations is Positive\")"
   ]
  },
  {
   "cell_type": "markdown",
   "id": "dca973c9",
   "metadata": {},
   "source": [
    "## Simpsons Paradox and Drug Trials"
   ]
  },
  {
   "cell_type": "code",
   "execution_count": null,
   "id": "5d159de5",
   "metadata": {},
   "outputs": [],
   "source": [
    "csv_url = \"https://raw.githubusercontent.com/PacktPublishing/Causal-Inference-and-Discovery-in-Python/main/data/ch_01_drug_data.csv\"\n",
    "data = pd.read_csv(csv_url).set_index(\"Drug\").T.reset_index()\n",
    "for ab in (\"A\", \"B\"):\n",
    "    data[\"index\"][data[\"index\"] == ab + \".1\"] = ab\n",
    "data.rename(columns = {\"index\":\"Drug\"}, inplace = True)\n",
    "data"
   ]
  },
  {
   "cell_type": "code",
   "execution_count": null,
   "id": "679a8667",
   "metadata": {},
   "outputs": [],
   "source": [
    "# unstack makes columns out of a secondary index\n",
    "plot_df = data.groupby([\"Drug\", \"Clot\"])[\"Total\"].sum().unstack()\n",
    "plot_df"
   ]
  },
  {
   "cell_type": "code",
   "execution_count": null,
   "id": "6fc56103",
   "metadata": {},
   "outputs": [],
   "source": [
    "colors = [\"C0\", \"C3\"]\n",
    "fig, ax = plt.subplots(figsize = (20,10))\n",
    "plot_df.plot.bar(stacked = True, \n",
    "                 legend = True, \n",
    "                 color = colors,\n",
    "                ax = ax)\n"
   ]
  },
  {
   "cell_type": "markdown",
   "id": "9d2736a1",
   "metadata": {},
   "source": [
    "## Stacked Barplot(Plotly)"
   ]
  },
  {
   "cell_type": "code",
   "execution_count": null,
   "id": "ccd2c036",
   "metadata": {},
   "outputs": [],
   "source": [
    "import plotly.graph_objects as go\n",
    "fig = go.Figure()\n",
    "# Adding each stack (clot type in this case) as a separate trace\n",
    "for clot_type in plot_df.columns:\n",
    "    fig.add_trace(go.Bar(\n",
    "        x=plot_df.index,\n",
    "        y=plot_df[clot_type],\n",
    "        name=\"Clot: \" + str(clot_type)\n",
    "    ))\n",
    "\n",
    "# Update layout for a stacked bar plot\n",
    "fig.update_layout(\n",
    "    barmode='stack',\n",
    "    title='Clotting by Drug',\n",
    "    xaxis_title='Drug',\n",
    "    yaxis_title='Total'#,\n",
    "#     legend_title='Clot Type'\n",
    ")\n",
    "\n",
    "# Show the plot\n",
    "fig.show()"
   ]
  },
  {
   "cell_type": "markdown",
   "id": "a29f6790",
   "metadata": {},
   "source": [
    "### Gender was not evenly distributed between trials"
   ]
  },
  {
   "cell_type": "code",
   "execution_count": null,
   "id": "4cebd883",
   "metadata": {},
   "outputs": [],
   "source": [
    "plot_df = data.groupby([\"Drug\", \"Clot\"])[[\"Male\", \"Female\"]].sum().unstack().T\n",
    "plot_df"
   ]
  },
  {
   "cell_type": "code",
   "execution_count": null,
   "id": "89320521",
   "metadata": {},
   "outputs": [],
   "source": [
    "plot_df = data.groupby([\"Drug\", \"Clot\"])[[\"Male\", \"Female\"]].sum().unstack().T\n",
    "plot_df.index.names = (\"Gender\", \"Clot\")\n",
    "# Transpose so we can stack data by row in the bar graph\n",
    "plot_df = plot_df.groupby(\"Gender\").sum().T\n",
    "plot_df"
   ]
  },
  {
   "cell_type": "code",
   "execution_count": null,
   "id": "6d3d6a71",
   "metadata": {},
   "outputs": [],
   "source": [
    "fig, ax = plt.subplots(figsize = (20,10))\n",
    "plot_df.plot.bar(ax = ax,\n",
    "                stacked = True,\n",
    "                color = colors,\n",
    "                legend = True)"
   ]
  },
  {
   "cell_type": "code",
   "execution_count": null,
   "id": "38c31f09",
   "metadata": {},
   "outputs": [],
   "source": [
    "# COPY AND PASTED FROM NOTES\n",
    "plot_df = data.groupby([\"Drug\",\"Clot\"])[[\"Male\", \"Female\"]].sum().unstack().T\n",
    "plot_df.index.names = (\"Gender\", \"Clot\")\n",
    "plot_df = plot_df.groupby(\"Gender\").sum().T\n",
    "\n",
    "# Create an interactive stacked bar plot using Plotly\n",
    "fig = go.Figure()\n",
    "\n",
    "# Adding each stack (gender in this case) as a separate trace\n",
    "for gender in plot_df.columns:\n",
    "    fig.add_trace(go.Bar(\n",
    "        x=plot_df.index,\n",
    "        y=plot_df[gender],\n",
    "        name=str(gender)\n",
    "    ))\n",
    "\n",
    "# Update layout for a stacked bar plot\n",
    "fig.update_layout(\n",
    "    barmode='stack',\n",
    "    title='Gender Composition by Drug Trial',\n",
    "    xaxis_title='Drug',\n",
    "    yaxis_title='Total Count',\n",
    "    legend_title='Gender'\n",
    ")\n",
    "\n",
    "# Show the plot\n",
    "fig.show()"
   ]
  },
  {
   "cell_type": "markdown",
   "id": "372805cf",
   "metadata": {},
   "source": [
    "### Present Results for Each Trial Controlling for Gender"
   ]
  },
  {
   "cell_type": "code",
   "execution_count": null,
   "id": "0dc87628",
   "metadata": {},
   "outputs": [],
   "source": [
    "plot_df = data.groupby([\"Clot\", \"Drug\"])[[\"Male\", \"Female\", \"Total\"]].sum().unstack().T\n",
    "plot_df"
   ]
  },
  {
   "cell_type": "code",
   "execution_count": null,
   "id": "d4c42e22",
   "metadata": {},
   "outputs": [],
   "source": [
    "pct_df = plot_df.copy()\n",
    "\n",
    "for key in pct_df.keys():\n",
    "    pct_df[key] = pct_df[key].div(plot_df.sum(axis = 1))\n",
    "pct_df.round(2)"
   ]
  },
  {
   "cell_type": "code",
   "execution_count": null,
   "id": "378682bb",
   "metadata": {},
   "outputs": [],
   "source": [
    "fig, ax = plt.subplots(figsize = (20, 10))\n",
    "# plot by male and female\n",
    "pct_df.loc[[\"Male\", \"Female\"]].plot.bar(ax = ax,\n",
    "                                        # every bar seperates values within row by column\n",
    "                                       stacked = [\"Clot\"],\n",
    "                                       color = colors,\n",
    "                                       legend = True)"
   ]
  },
  {
   "cell_type": "code",
   "execution_count": null,
   "id": "c1d8b26a",
   "metadata": {},
   "outputs": [],
   "source": [
    "# COPY AND PASTED FROM NOTES\n",
    "pct_df_gender = pct_df.loc[[\"Male\", \"Female\"]].round(3)\n",
    "color_map = {\n",
    "    0:'blue', #Color for CLot 0\n",
    "    1: 'red', #Color for Clot 1\n",
    "}\n",
    "# Transparency (alpha) values for gender\n",
    "opacity_map = {\n",
    "    'Male': 1,    # Opaque for males\n",
    "    'Female': 0.6  # More transparent for females\n",
    "}\n",
    "\n",
    "# Initialize an empty figure\n",
    "fig = go.Figure()\n",
    "\n",
    "# Iterate through the DataFrame and add a bar for each gender and drug combination\n",
    "for (gender, drug), values in pct_df_gender.iterrows():\n",
    "    for clot in range(len(values)):\n",
    "        fig.add_trace(go.Bar(\n",
    "            name=f\"Clot {clot}\",  # We will use this in the legend\n",
    "            x=[f\"{gender} {drug}\"],\n",
    "            y=[values[clot]],\n",
    "            marker=dict(color=color_map[clot], opacity=opacity_map[gender]),\n",
    "            legendgroup=f\"Clot {clot}\",\n",
    "            showlegend=False  # We do not show these traces in the legend\n",
    "        ))\n",
    "# Add two traces for the legend\n",
    "for clot in [0, 1]:\n",
    "    fig.add_trace(go.Bar(\n",
    "        name=f\"Clot {clot}\",\n",
    "        x=[None],\n",
    "        y=[None],\n",
    "        marker=dict(color=color_map[clot], opacity=1),\n",
    "        legendgroup=f\"Clot: {clot}\",\n",
    "        showlegend=True\n",
    "    ))\n",
    "\n",
    "# Update layout for stacked bar plot\n",
    "fig.update_layout(\n",
    "    barmode='stack',\n",
    "    title='Clots by Gender and Drug',\n",
    "    xaxis=dict(title='Drug', type='category'),\n",
    "    yaxis=dict(title='Percentage'),\n",
    "    legend_title='Clot',\n",
    "    legend=dict(\n",
    "        traceorder='normal',\n",
    "        orientation='h',\n",
    "        yanchor=\"bottom\",\n",
    "        y=1.02,\n",
    "        xanchor=\"right\",\n",
    "        x=1\n",
    "    )\n",
    ")\n",
    "\n",
    "# Show the plot\n",
    "fig.show()"
   ]
  },
  {
   "cell_type": "code",
   "execution_count": null,
   "id": "9727976f",
   "metadata": {},
   "outputs": [],
   "source": [
    "#statsFunctions.py\n",
    "# . . . \n",
    "def skewness(lst, sample = False):\n",
    "    mean_ = mean(lst)\n",
    "    SD_ = SD(lst, sample)\n",
    "    skew = 0\n",
    "    n = len(lst)\n",
    "    for val in lst:\n",
    "        skew += (val - mean_) ** 3\n",
    "    skew = skew / (n * SD_ ** 3) if not sample else  skew / ((n - 1)*(n - 2) * SD_ ** 3)\n",
    "        \n",
    "    return skew\n",
    "\n",
    "# . . . \n",
    "skew1 = skewness(X1, sample = False)\n",
    "skew2 = skewness(X2, sample = False)\n",
    "print(\"skewness of list1:\", skew1)\n",
    "print(\"skewness of list2:\", skew2)\n",
    "sample_skew1 = skewness(X1, sample = True)\n",
    "sample_skew2 = skewness(X2, sample = True)\n",
    "print(\"sample skewness of list1:\", sample_skew1)"
   ]
  },
  {
   "cell_type": "code",
   "execution_count": null,
   "id": "fc7c8318",
   "metadata": {},
   "outputs": [],
   "source": [
    "#statsFunctions.py\n",
    "# . . .\n",
    "def kurtosis(lst, sample = False):\n",
    "    mean_ = mean(lst)\n",
    "    kurt = 0\n",
    "    SD_ = SD(lst, sample)\n",
    "    n = len(lst)\n",
    "    for x in lst:\n",
    "        kurt += (x - mean_) ** 4\n",
    "    kurt = kurt / (n * SD_ ** 4) if  sample == False else  n * (n + 1) * kurt / \\\n",
    "    ((n - 1) * (n - 2) * (n - 3) * (SD_ ** 4)) - (3 *(n - 1) ** 2) / ((n - 2) * (n - 3))\n",
    "    \n",
    "    return kurt\n",
    "\n",
    "# . . .\n",
    "kurt1 = kurtosis(X1)\n",
    "kurt2 = kurtosis(X2)\n",
    "print(\"kurtosis of list1:\", kurt1)\n",
    "print(\"kurtosis of list2:\", kurt2)\n",
    "sample_kurt1 = kurtosis(X1, sample = True)  \n",
    "sample_kurt2 = kurtosis(X2, sample = True)  \n",
    "print(\"sample kurtosis of list1:\", sample_kurt1)  \n",
    "print(\"sample kurtosis of list2:\", sample_kurt2)"
   ]
  },
  {
   "cell_type": "markdown",
   "id": "8cad311e",
   "metadata": {},
   "source": [
    "## Using a Nested Dictionary to Organize Statistics"
   ]
  },
  {
   "cell_type": "code",
   "execution_count": null,
   "id": "4e173003",
   "metadata": {},
   "outputs": [],
   "source": [
    "stats_dict = {}   \n",
    "stats_dict[\"X1\"] = {}  \n",
    "stats_dict[\"X1\"][\"list\"] = X1    \n",
    "stats_dict[\"X2\"] = {}  \n",
    "stats_dict[\"X2\"][\"list\"] = X2  \n",
    "stats_dict"
   ]
  },
  {
   "cell_type": "code",
   "execution_count": null,
   "id": "e9f9bb94",
   "metadata": {},
   "outputs": [],
   "source": [
    "for key in stats_dict.keys():\n",
    "    lst = stats_dict[key][\"list\"]\n",
    "    stats_dict[key][\"total\"] = total(lst)\n",
    "    stats_dict[key][\"mean\"] = mean(lst)\n",
    "    stats_dict[key][\"median\"] = median(lst)\n",
    "    stats_dict[key][\"mode\"] = mode(lst)\n",
    "    stats_dict[key][\"variance\"] = variance(lst)\n",
    "    stats_dict[key][\"standard deviation\"] = SD(lst)\n",
    "    stats_dict[key][\"standard error\"] = STE(lst)\n",
    "    stats_dict[key][\"skewness\"] = skewness(lst)\n",
    "    stats_dict[key][\"kurtosis\"] = kurtosis(lst)\n",
    "stats_dict"
   ]
  },
  {
   "cell_type": "code",
   "execution_count": null,
   "id": "6e7cbb6e",
   "metadata": {},
   "outputs": [],
   "source": [
    "stats_df = pd.DataFrame(stats_dict)\n",
    "stats_df"
   ]
  },
  {
   "cell_type": "code",
   "execution_count": null,
   "id": "c6cc6760",
   "metadata": {},
   "outputs": [],
   "source": [
    "stats_names = [\"total\",\n",
    "             \"mean\",\n",
    "             \"median\",\n",
    "             \"standard deviation\",\n",
    "             \"standard error\",\n",
    "             \"skewness\",\n",
    "             \"kurtosis\"]\n",
    "stats_df.loc[stats_names]"
   ]
  },
  {
   "cell_type": "code",
   "execution_count": null,
   "id": "8dc4b63c",
   "metadata": {},
   "outputs": [],
   "source": [
    "pd.DataFrame(X1).describe()"
   ]
  },
  {
   "cell_type": "code",
   "execution_count": null,
   "id": "d64f6355",
   "metadata": {},
   "outputs": [],
   "source": [
    "def gather_statistics(df, sample = True, round_to = 3):\n",
    "    # create an entry in the dictionary for each column of data\n",
    "    dct = {key:{} for key in df}\n",
    "    \n",
    "    for key, vals in df.items():\n",
    "        # .dropna(axis = 0 drops any row with a null value)\n",
    "        ## axis = 1 would drop any column with a null value\n",
    "        vals = vals.dropna(axis=0)\n",
    "        dct[key][\"mean\"] = round(mean(vals), round_to)\n",
    "        dct[key][\"median\"] = round(median(vals), round_to)\n",
    "        dct[key][\"variance\"] = round(variance(vals, sample), round_to)\n",
    "        dct[key][\"SD\"] = round(SD(vals, sample), round_to)\n",
    "        dct[key][\"STE\"] = round(STE(vals, sample), round_to)\n",
    "        dct[key][\"skewness\"] = round(skewness(vals, sample), round_to)\n",
    "        dct[key][\"kurtosis\"] = round(kurtosis(vals, sample), round_to)\n",
    "    stats_df = pd.DataFrame(dct)\n",
    "    return stats_df\n",
    "\n",
    "data = pd.DataFrame([X1, X2], \n",
    "                    index = [\"List1\", \"List2\"]).T\n",
    "gather_statstics(data, sample = False, round_to = 1)"
   ]
  },
  {
   "cell_type": "code",
   "execution_count": null,
   "id": "25ab16b2",
   "metadata": {},
   "outputs": [],
   "source": [
    "data.loc[0, \"List1\"] = np.nan\n",
    "data.dropna(axis = 1)"
   ]
  },
  {
   "cell_type": "code",
   "execution_count": null,
   "id": "f69daf01",
   "metadata": {},
   "outputs": [],
   "source": [
    "import stats\n",
    "dir(stats)"
   ]
  },
  {
   "cell_type": "code",
   "execution_count": null,
   "id": "1b00c6a4",
   "metadata": {},
   "outputs": [],
   "source": [
    "stats.mean(X1)"
   ]
  },
  {
   "cell_type": "code",
   "execution_count": null,
   "id": "791f0118",
   "metadata": {},
   "outputs": [],
   "source": [
    "filename = \"efotw-2022-master-index-data-for-researchers-iso.xlsx\"\n",
    "data = pd.read_excel(filename, \n",
    "                      index_col = [2,1],\n",
    "                      header = [4])\n",
    "data.shape"
   ]
  },
  {
   "cell_type": "code",
   "execution_count": null,
   "id": "6409d1bb",
   "metadata": {},
   "outputs": [],
   "source": [
    "#drop empty columns with axis = 1\n",
    "data.dropna(how = \"all\", axis = 1)\n",
    "data.shape"
   ]
  },
  {
   "cell_type": "code",
   "execution_count": null,
   "id": "405cebf5",
   "metadata": {},
   "outputs": [],
   "source": [
    "data.head()"
   ]
  },
  {
   "cell_type": "code",
   "execution_count": null,
   "id": "fb702427",
   "metadata": {},
   "outputs": [],
   "source": [
    "data = pd.read_excel(filename,\n",
    "                    sheet_name = None)\n",
    "data.keys()"
   ]
  },
  {
   "cell_type": "code",
   "execution_count": null,
   "id": "930caa1f",
   "metadata": {},
   "outputs": [],
   "source": [
    "data = pd.read_excel(filename,\n",
    "                     index_col = [2,0],\n",
    "                     header =[0],\n",
    "                     sheet_name = \"EFW Panel Data 2022 Report\")\n",
    "data.shape"
   ]
  },
  {
   "cell_type": "code",
   "execution_count": null,
   "id": "9d1c1a6d",
   "metadata": {},
   "outputs": [],
   "source": [
    "rename = {\"Panel Data Summary Index\":\"Summary\",\n",
    "         \"Area 1\": \"Size of Government\",\n",
    "         \"Area 2\": \"Legal System and Property Rights\",\n",
    "         \"Area 3\": \"Sound Money\",\n",
    "         \"Area 4\": \"Freedom to Trade Internationally\",\n",
    "         \"Area 5\": \"Regulation\"}\n",
    "data = data.rename(columns = rename)\n",
    "# no columns or rows are actually dropped\n",
    "data = data.dropna(how = \"all\", axis = 1)\n",
    "data.shape"
   ]
  },
  {
   "cell_type": "code",
   "execution_count": null,
   "id": "37f022a4",
   "metadata": {},
   "outputs": [],
   "source": [
    "data = data[data.keys()[4:-1]]\n",
    "data.head()"
   ]
  },
  {
   "cell_type": "code",
   "execution_count": null,
   "id": "a6ff916e",
   "metadata": {},
   "outputs": [],
   "source": [
    "data.keys()"
   ]
  },
  {
   "cell_type": "code",
   "execution_count": null,
   "id": "90309ea7",
   "metadata": {},
   "outputs": [],
   "source": [
    "data_for_stats = data.dropna(how = \"all\", axis = 0)\n",
    "stats_df = gather_statistics(data_for_stats, sample = False)\n",
    "stats_df"
   ]
  },
  {
   "cell_type": "code",
   "execution_count": null,
   "id": "8b0fc396",
   "metadata": {},
   "outputs": [],
   "source": [
    "stats_df.to_csv(\"EFWStats.csv\")"
   ]
  },
  {
   "cell_type": "code",
   "execution_count": null,
   "id": "dea2133e",
   "metadata": {},
   "outputs": [],
   "source": [
    "data_for_stats.corr().round(2).to_csv(\"EFWCorr.csv\")\n",
    "data_for_stats.corr().round(2)"
   ]
  },
  {
   "cell_type": "code",
   "execution_count": null,
   "id": "2ca7f095",
   "metadata": {},
   "outputs": [],
   "source": [
    "data_for_stats.to_csv(\"CleanedEconFreedomData.csv\")"
   ]
  },
  {
   "cell_type": "code",
   "execution_count": null,
   "id": "f42dbd70",
   "metadata": {},
   "outputs": [],
   "source": [
    "data = data_for_stats.copy()"
   ]
  },
  {
   "cell_type": "code",
   "execution_count": null,
   "id": "77663bd3",
   "metadata": {},
   "outputs": [],
   "source": [
    "data[[\"Summary\",\n",
    "      \"Legal System and Property Rights\",\n",
    "      \"Freedom to Trade Internationally\"]]"
   ]
  },
  {
   "cell_type": "code",
   "execution_count": null,
   "id": "57a950f7",
   "metadata": {},
   "outputs": [],
   "source": [
    "data.plot.scatter(c = \"Sound Money\",\n",
    "                 x = \"Legal System and Property Rights\",\n",
    "                 y = \"Freedom to Trade Internationally\")"
   ]
  },
  {
   "cell_type": "code",
   "execution_count": null,
   "id": "2d34ced9",
   "metadata": {},
   "outputs": [],
   "source": [
    "keys = [\"Legal System and Property Rights\",\n",
    "        \"Freedom to Trade Internationally\",\n",
    "        \"sound Money\",\n",
    "        \"Size of Government\"]\n",
    "\n",
    "def color_dim_scatter(data, alpha = .7, s = 50):\n",
    "for x in data:\n",
    "    for y in data:\n",
    "        for c in data:\n",
    "            if x != y and y != c and x != c:\n",
    "                fig, ax = plt.subplots(figsize = (20,20))\n",
    "                data.plot.scatter(x = x, \n",
    "                                  y = y, \n",
    "                                  c = c, \n",
    "                                  alpha = alpha, \n",
    "                                  s = s, \n",
    "                                  ax = ax)\n",
    "color_dim_scatter(data[keys])"
   ]
  },
  {
   "cell_type": "code",
   "execution_count": null,
   "id": "551e0c98",
   "metadata": {},
   "outputs": [],
   "source": []
  }
 ],
 "metadata": {
  "kernelspec": {
   "display_name": "Python 3 (ipykernel)",
   "language": "python",
   "name": "python3"
  },
  "language_info": {
   "codemirror_mode": {
    "name": "ipython",
    "version": 3
   },
   "file_extension": ".py",
   "mimetype": "text/x-python",
   "name": "python",
   "nbconvert_exporter": "python",
   "pygments_lexer": "ipython3",
   "version": "3.11.4"
  }
 },
 "nbformat": 4,
 "nbformat_minor": 5
}
