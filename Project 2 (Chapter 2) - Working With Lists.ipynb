{
 "cells": [
  {
   "cell_type": "markdown",
   "id": "596aad51",
   "metadata": {},
   "source": [
    "# Chapter 2: Working With Lists"
   ]
  },
  {
   "cell_type": "markdown",
   "id": "e4e6aabf",
   "metadata": {},
   "source": [
    "Dictionaries and lists are the prefered data structures in python"
   ]
  },
  {
   "cell_type": "code",
   "execution_count": 2,
   "id": "f6cd3bf4",
   "metadata": {},
   "outputs": [
    {
     "name": "stdout",
     "output_type": "stream",
     "text": [
      "[]\n",
      "[1, 2, 3, 4, 5]\n",
      "[1.0, 2.0, 3.0, 4.0, 5.0]\n",
      "['One', 'Two', 'Three']\n",
      "[1, 2.0, 'Three']\n"
     ]
    }
   ],
   "source": [
    "#lists\n",
    "empty_list = []\n",
    "int_list = [1,2,3,4,5]\n",
    "float_list = [1.0, 2.0, 3.0, 4.0, 5.0]\n",
    "string_list = [\"One\", \"Two\", \"Three\"]\n",
    "mixed_list = [1, 2.0, \"Three\"]\n",
    "\n",
    "print(empty_list)\n",
    "print(int_list)\n",
    "print(float_list)\n",
    "print(string_list)\n",
    "print(mixed_list)"
   ]
  },
  {
   "cell_type": "code",
   "execution_count": 3,
   "id": "59ed910e",
   "metadata": {},
   "outputs": [
    {
     "name": "stdout",
     "output_type": "stream",
     "text": [
      "<class 'list'>\n",
      "<class 'list'>\n"
     ]
    }
   ],
   "source": [
    "print(type(int_list))\n",
    "print(type(float_list))"
   ]
  },
  {
   "cell_type": "code",
   "execution_count": 4,
   "id": "c2407c3c",
   "metadata": {},
   "outputs": [
    {
     "name": "stdout",
     "output_type": "stream",
     "text": [
      "<class 'list'> [1, 2.0, 'Three']\n",
      "<class 'int'> 1\n",
      "<class 'float'> 2.0\n",
      "<class 'str'> Three\n"
     ]
    }
   ],
   "source": [
    "print(type(mixed_list), mixed_list)\n",
    "for value in mixed_list:\n",
    "    print(type(value), value)"
   ]
  },
  {
   "cell_type": "markdown",
   "id": "803fbbaf",
   "metadata": {},
   "source": [
    "## Concatenating lists\n",
    "concatenating two seperate lists joins those lists into a single list, has the same affect as appending the second list to the first list"
   ]
  },
  {
   "cell_type": "code",
   "execution_count": 1,
   "id": "365c73bb",
   "metadata": {},
   "outputs": [
    {
     "data": {
      "text/plain": [
       "'ab'"
      ]
     },
     "execution_count": 1,
     "metadata": {},
     "output_type": "execute_result"
    }
   ],
   "source": [
    "\"a\" + \"b\""
   ]
  },
  {
   "cell_type": "code",
   "execution_count": 2,
   "id": "7bd6cad7",
   "metadata": {},
   "outputs": [
    {
     "data": {
      "text/plain": [
       "['a', 'b']"
      ]
     },
     "execution_count": 2,
     "metadata": {},
     "output_type": "execute_result"
    }
   ],
   "source": [
    "[\"a\"] + [\"b\"]"
   ]
  },
  {
   "cell_type": "code",
   "execution_count": 3,
   "id": "7a7f884a",
   "metadata": {},
   "outputs": [
    {
     "data": {
      "text/plain": [
       "['a', 'b']"
      ]
     },
     "execution_count": 3,
     "metadata": {},
     "output_type": "execute_result"
    }
   ],
   "source": [
    "x = [\"a\"]\n",
    "x = x + [\"b\"]\n",
    "x"
   ]
  },
  {
   "cell_type": "markdown",
   "id": "1c582be5",
   "metadata": {},
   "source": [
    "### Transform a string of characters into a list of string characters"
   ]
  },
  {
   "cell_type": "code",
   "execution_count": 4,
   "id": "c8c8aaca",
   "metadata": {},
   "outputs": [
    {
     "name": "stdout",
     "output_type": "stream",
     "text": [
      "a\n",
      "b\n",
      "c\n",
      "d\n",
      "e\n",
      "f\n",
      "g\n",
      "h\n",
      "i\n",
      "j\n",
      "k\n",
      "l\n",
      "m\n",
      "n\n",
      "o\n",
      "p\n",
      "q\n",
      "r\n",
      "s\n",
      "t\n",
      "u\n",
      "v\n",
      "w\n",
      "x\n",
      "y\n",
      "z\n",
      "['a', 'b', 'c', 'd', 'e', 'f', 'g', 'h', 'i', 'j', 'k', 'l', 'm', 'n', 'o', 'p', 'q', 'r', 's', 't', 'u', 'v', 'w', 'x', 'y', 'z']\n"
     ]
    }
   ],
   "source": [
    "alphabet = \"abcdefghijklmnopqrstuvwxyz\"\n",
    "alpha_list = []\n",
    "# for loop will cycle through each character (letter) in the string, alphabet\n",
    "# each character will be reprsented by the variable: letter\n",
    "for letter in alphabet:\n",
    "    print(letter)\n",
    "    alpha_list = alpha_list + [letter]\n",
    "print(alpha_list)"
   ]
  },
  {
   "cell_type": "code",
   "execution_count": 5,
   "id": "4ec5b7ec",
   "metadata": {},
   "outputs": [
    {
     "data": {
      "text/plain": [
       "[1, 2, 3, 4, 5, 6, 7, 8, 9, 10]"
      ]
     },
     "execution_count": 5,
     "metadata": {},
     "output_type": "execute_result"
    }
   ],
   "source": [
    "list1 = [1,2,3,4,5]\n",
    "list2 = [6,7,8,9,10]\n",
    "list1 + list2"
   ]
  },
  {
   "cell_type": "markdown",
   "id": "da00873e",
   "metadata": {},
   "source": [
    "### Transform a list of strings into a single string with spaces between each word"
   ]
  },
  {
   "cell_type": "code",
   "execution_count": 11,
   "id": "46ae9848",
   "metadata": {},
   "outputs": [
    {
     "name": "stdout",
     "output_type": "stream",
     "text": [
      "This\n",
      "This \n",
      "is\n",
      "This is \n",
      "a\n",
      "This is a \n",
      "list\n",
      "This is a list \n",
      "of\n",
      "This is a list of \n",
      "strings.\n",
      "This is a list of strings. \n"
     ]
    },
    {
     "data": {
      "text/plain": [
       "'This is a list of strings.'"
      ]
     },
     "execution_count": 11,
     "metadata": {},
     "output_type": "execute_result"
    }
   ],
   "source": [
    "str_list = [\"This\", \"is\",\"a\",\"list\",\"of\",\"strings.\"]\n",
    "new_string = \"\"\n",
    "#the for loop will cycle through each string in the list seperately\n",
    "# each string will be indentified by the variable: string\n",
    "for string in str_list:\n",
    "    print(string)\n",
    "    # join each seperate string to the object new_string\n",
    "    new_string = new_string + string + \" \"\n",
    "    print(new_string)\n",
    "new_string.strip()"
   ]
  },
  {
   "cell_type": "markdown",
   "id": "e32ae3a1",
   "metadata": {},
   "source": [
    "### range (min, max +1, interval)"
   ]
  },
  {
   "cell_type": "code",
   "execution_count": 12,
   "id": "358e9916",
   "metadata": {},
   "outputs": [
    {
     "name": "stdout",
     "output_type": "stream",
     "text": [
      "0\n",
      "1\n",
      "2\n",
      "3\n",
      "4\n",
      "5\n",
      "6\n",
      "7\n",
      "8\n",
      "9\n"
     ]
    }
   ],
   "source": [
    "for i in range(10):\n",
    "    print(i)"
   ]
  },
  {
   "cell_type": "code",
   "execution_count": 13,
   "id": "0e0a0127",
   "metadata": {},
   "outputs": [
    {
     "name": "stdout",
     "output_type": "stream",
     "text": [
      "0\n",
      "1\n",
      "2\n",
      "3\n",
      "4\n",
      "5\n",
      "6\n",
      "7\n",
      "8\n",
      "9\n"
     ]
    }
   ],
   "source": [
    "for i in range(0, 10):\n",
    "    print(i)"
   ]
  },
  {
   "cell_type": "code",
   "execution_count": 21,
   "id": "bf84de1e",
   "metadata": {},
   "outputs": [
    {
     "data": {
      "text/plain": [
       "[-10, -9, -8, -7, -6, -5, -4, -3, -2, -1, 0, 1, 2, 3, 4, 5, 6, 7, 8, 9, 10]"
      ]
     },
     "execution_count": 21,
     "metadata": {},
     "output_type": "execute_result"
    }
   ],
   "source": [
    "minrange = -10\n",
    "maxrange = 10\n",
    "range_list = list(range(minrange,maxrange +1,))\n",
    "range_list"
   ]
  },
  {
   "cell_type": "code",
   "execution_count": 15,
   "id": "2fe5fe3c",
   "metadata": {},
   "outputs": [
    {
     "data": {
      "text/plain": [
       "range(0, 10)"
      ]
     },
     "execution_count": 15,
     "metadata": {},
     "output_type": "execute_result"
    }
   ],
   "source": [
    "range(0,10)\n",
    "#you have to put the range into action such as in a list"
   ]
  },
  {
   "cell_type": "code",
   "execution_count": 17,
   "id": "073465dc",
   "metadata": {},
   "outputs": [
    {
     "name": "stdout",
     "output_type": "stream",
     "text": [
      "0\n",
      "1\n",
      "2\n",
      "3\n",
      "4\n",
      "5\n",
      "6\n",
      "7\n",
      "8\n",
      "9\n"
     ]
    }
   ],
   "source": [
    "#comparing - you get the same outcome similar to the top\n",
    "for i in range_list:\n",
    "    print(i)"
   ]
  },
  {
   "cell_type": "code",
   "execution_count": 22,
   "id": "f5762848",
   "metadata": {},
   "outputs": [
    {
     "name": "stdout",
     "output_type": "stream",
     "text": [
      "0\n",
      "1\n",
      "2\n",
      "3\n",
      "4\n",
      "5\n",
      "6\n",
      "7\n",
      "8\n",
      "9\n"
     ]
    }
   ],
   "source": [
    "for i in range(0,10):\n",
    "    print(i)"
   ]
  },
  {
   "cell_type": "code",
   "execution_count": 26,
   "id": "f5aa3aa8",
   "metadata": {},
   "outputs": [
    {
     "name": "stdout",
     "output_type": "stream",
     "text": [
      "[-100, -97, -94, -91, -88, -85, -82, -79, -76, -73, -70, -67, -64, -61, -58, -55, -52, -49, -46, -43, -40, -37, -34, -31, -28, -25, -22, -19, -16, -13, -10, -7, -4, -1, 2, 5, 8, 11, 14, 17, 20, 23, 26, 29, 32, 35, 38, 41, 44, 47, 50, 53, 56, 59, 62, 65, 68, 71, 74, 77, 80, 83, 86, 89, 92, 95, 98]\n"
     ]
    }
   ],
   "source": [
    "minrange = -100\n",
    "maxrange = 100\n",
    "interval = 3\n",
    "range_list = list(range(minrange,maxrange +1, interval))\n",
    "print(range_list)"
   ]
  },
  {
   "cell_type": "markdown",
   "id": "8740f3f2",
   "metadata": {},
   "source": [
    "### interval can be used in range() but it can also be used in calling a slice of a list where only every i elements are called "
   ]
  },
  {
   "cell_type": "code",
   "execution_count": 28,
   "id": "0eb76cbf",
   "metadata": {},
   "outputs": [
    {
     "name": "stdout",
     "output_type": "stream",
     "text": [
      "[-100, -99, -98, -97, -96, -95, -94, -93, -92, -91, -90, -89, -88, -87, -86, -85, -84, -83, -82, -81, -80, -79, -78, -77, -76, -75, -74, -73, -72, -71, -70, -69, -68, -67, -66, -65, -64, -63, -62, -61, -60, -59, -58, -57, -56, -55, -54, -53, -52, -51, -50, -49, -48, -47, -46, -45, -44, -43, -42, -41, -40, -39, -38, -37, -36, -35, -34, -33, -32, -31, -30, -29, -28, -27, -26, -25, -24, -23, -22, -21, -20, -19, -18, -17, -16, -15, -14, -13, -12, -11, -10, -9, -8, -7, -6, -5, -4, -3, -2, -1, 0, 1, 2, 3, 4, 5, 6, 7, 8, 9, 10, 11, 12, 13, 14, 15, 16, 17, 18, 19, 20, 21, 22, 23, 24, 25, 26, 27, 28, 29, 30, 31, 32, 33, 34, 35, 36, 37, 38, 39, 40, 41, 42, 43, 44, 45, 46, 47, 48, 49, 50, 51, 52, 53, 54, 55, 56, 57, 58, 59, 60, 61, 62, 63, 64, 65, 66, 67, 68, 69, 70, 71, 72, 73, 74, 75, 76, 77, 78, 79, 80, 81, 82, 83, 84, 85, 86, 87, 88, 89, 90, 91, 92, 93, 94, 95, 96, 97, 98, 99, 100]\n",
      "[-100, -97, -94, -91, -88, -85, -82, -79, -76, -73, -70, -67, -64, -61, -58, -55, -52, -49, -46, -43, -40, -37, -34, -31, -28, -25, -22, -19, -16, -13, -10, -7, -4, -1, 2, 5, 8, 11, 14, 17, 20, 23, 26, 29, 32, 35, 38, 41, 44, 47, 50, 53, 56, 59, 62, 65, 68, 71, 74, 77, 80, 83, 86, 89, 92, 95, 98]\n"
     ]
    }
   ],
   "source": [
    "minrange = -100\n",
    "maxrange = 100\n",
    "range_list = list(range(minrange, maxrange +1))\n",
    "print(range_list)\n",
    "print(range_list[::interval])"
   ]
  },
  {
   "cell_type": "markdown",
   "id": "e83c0e42",
   "metadata": {},
   "source": [
    "## Generator Functions"
   ]
  },
  {
   "cell_type": "code",
   "execution_count": 32,
   "id": "d1880812",
   "metadata": {},
   "outputs": [
    {
     "name": "stdout",
     "output_type": "stream",
     "text": [
      "1\n",
      "10\n",
      "2\n",
      "1\n",
      "7\n",
      "10\n",
      "5\n",
      "7\n",
      "4\n",
      "8\n"
     ]
    }
   ],
   "source": [
    "import random\n",
    "for i in range(10):\n",
    "    print(random.randint(0,10))\n",
    "    "
   ]
  },
  {
   "cell_type": "code",
   "execution_count": 35,
   "id": "7e8e4944",
   "metadata": {},
   "outputs": [
    {
     "data": {
      "text/plain": [
       "[-10, -9, -8, -7, -6, -5, -4, -3, -2, -1, 0, 1, 2, 3, 4, 5, 6, 7, 8, 9, 10]"
      ]
     },
     "execution_count": 35,
     "metadata": {},
     "output_type": "execute_result"
    }
   ],
   "source": [
    "minrange = -10\n",
    "maxrange = 10\n",
    "# x = list(range(minrange, maxrange +1))\n",
    "x = [i for i in range(minrange, maxrange + 1)]\n",
    "x"
   ]
  },
  {
   "cell_type": "markdown",
   "id": "d803e9d3",
   "metadata": {},
   "source": [
    "$$y = 2x^2 + 3x + 1$$"
   ]
  },
  {
   "cell_type": "code",
   "execution_count": 38,
   "id": "f481b1ca",
   "metadata": {},
   "outputs": [
    {
     "name": "stdout",
     "output_type": "stream",
     "text": [
      "[171, 136, 105, 78, 55, 36, 21, 10, 3, 0, 1, 6, 15, 28, 45, 66, 91, 120, 153, 190, 231]\n"
     ]
    }
   ],
   "source": [
    "y = [2 * x ** 2 + 3 * x + 1 for x in range(minrange, maxrange +1)]\n",
    "print(y)"
   ]
  },
  {
   "cell_type": "code",
   "execution_count": 39,
   "id": "7d67bc21",
   "metadata": {},
   "outputs": [
    {
     "data": {
      "text/plain": [
       "[<matplotlib.lines.Line2D at 0x1ac43e06c90>]"
      ]
     },
     "execution_count": 39,
     "metadata": {},
     "output_type": "execute_result"
    },
    {
     "data": {
      "image/png": "[encoded data removed]",
      "text/plain": [
       "<Figure size 640x480 with 1 Axes>"
      ]
     },
     "metadata": {},
     "output_type": "display_data"
    }
   ],
   "source": [
    "import matplotlib.pyplot as plt\n",
    "plt.plot(y)"
   ]
  },
  {
   "cell_type": "markdown",
   "id": "5e7b4a83",
   "metadata": {},
   "source": [
    "You don't always have to use the value from the for loop. The index in the for loop can define how many times a task is completed rather than indicating what a value should be"
   ]
  },
  {
   "cell_type": "code",
   "execution_count": 42,
   "id": "e6c46312",
   "metadata": {},
   "outputs": [
    {
     "name": "stdout",
     "output_type": "stream",
     "text": [
      "[10, -10, -4, 10, 6, 4, 6, -6, 2, 3]\n"
     ]
    }
   ],
   "source": [
    "y = [random.randint(minrange, maxrange +1) for x in range(10)]\n",
    "print(y)"
   ]
  },
  {
   "cell_type": "code",
   "execution_count": 41,
   "id": "430949c1",
   "metadata": {},
   "outputs": [
    {
     "data": {
      "text/plain": [
       "[<matplotlib.lines.Line2D at 0x1ac44628f10>]"
      ]
     },
     "execution_count": 41,
     "metadata": {},
     "output_type": "execute_result"
    },
    {
     "data": {
      "image/png": "[encoded data removed]",
      "text/plain": [
       "<Figure size 640x480 with 1 Axes>"
      ]
     },
     "metadata": {},
     "output_type": "display_data"
    }
   ],
   "source": [
    "y = [random.randint(minrange, maxrange +1) for x in range(minrange, maxrange +1)]\n",
    "y\n",
    "plt.plot(y)"
   ]
  },
  {
   "cell_type": "code",
   "execution_count": null,
   "id": "511b40d4",
   "metadata": {},
   "outputs": [],
   "source": []
  }
 ],
 "metadata": {
  "kernelspec": {
   "display_name": "Python 3 (ipykernel)",
   "language": "python",
   "name": "python3"
  },
  "language_info": {
   "codemirror_mode": {
    "name": "ipython",
    "version": 3
   },
   "file_extension": ".py",
   "mimetype": "text/x-python",
   "name": "python",
   "nbconvert_exporter": "python",
   "pygments_lexer": "ipython3",
   "version": "3.11.4"
  }
 },
 "nbformat": 4,
 "nbformat_minor": 5
}
