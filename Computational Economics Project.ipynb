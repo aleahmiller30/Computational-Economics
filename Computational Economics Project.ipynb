{
 "cells": [
  {
   "cell_type": "markdown",
   "id": "0f68210f",
   "metadata": {},
   "source": [
    "# Computational Economics Project\n",
    "By Aleah Miller"
   ]
  },
  {
   "cell_type": "markdown",
   "id": "d9546131",
   "metadata": {},
   "source": [
    "## Proposal Statement\n",
    "For my project, I would like to look at the cost and efficiency of nuclear energy in comparison to the oil and coal industries in the United States. Some say that nuclear power plants would be an effective response to climate change and goal of reducing carbon emissions. My project would aim to address whether or not this is a true and feasible claim. I would also potentially like to explore the comparison between nuclear, solar, and wind generated electricity. "
   ]
  },
  {
   "cell_type": "markdown",
   "id": "e719bb44",
   "metadata": {},
   "source": [
    "## Proposal\n",
    "Nuclear power could be the solution for reducing carbon emissions in the United States because of its capability to create large amounts of electricity without excessive greenhouse gas emissions. Unlike fossil fuels, nuclear power does not produce carbon dioxide, making it one of the best ways to combat climate change. In addition to this, nuclear power is a reliable energy supply and plants can operate 24/7 unlike renewable sources such as solar and wind. "
   ]
  },
  {
   "cell_type": "markdown",
   "id": "056d9aaa",
   "metadata": {},
   "source": [
    "## Data Sources"
   ]
  },
  {
   "cell_type": "code",
   "execution_count": 2,
   "id": "8854ab36",
   "metadata": {},
   "outputs": [
    {
     "ename": "FileNotFoundError",
     "evalue": "[Errno 2] No such file or directory: 'Table_8.1_Nuclear_Energy_Overview.xlsx'",
     "output_type": "error",
     "traceback": [
      "\u001b[1;31m---------------------------------------------------------------------------\u001b[0m",
      "\u001b[1;31mFileNotFoundError\u001b[0m                         Traceback (most recent call last)",
      "Cell \u001b[1;32mIn[2], line 3\u001b[0m\n\u001b[0;32m      1\u001b[0m \u001b[38;5;28;01mimport\u001b[39;00m \u001b[38;5;21;01mpandas\u001b[39;00m \u001b[38;5;28;01mas\u001b[39;00m \u001b[38;5;21;01mpd\u001b[39;00m\n\u001b[1;32m----> 3\u001b[0m data \u001b[38;5;241m=\u001b[39m pd\u001b[38;5;241m.\u001b[39mread_excel(\u001b[38;5;124m\"\u001b[39m\u001b[38;5;124mTable_8.1_Nuclear_Energy_Overview.xlsx\u001b[39m\u001b[38;5;124m\"\u001b[39m, header\u001b[38;5;241m=\u001b[39m\u001b[38;5;241m10\u001b[39m, index_col\u001b[38;5;241m=\u001b[39m\u001b[38;5;241m0\u001b[39m, date_parser\u001b[38;5;241m=\u001b[39m\u001b[38;5;28;01mTrue\u001b[39;00m)\n",
      "File \u001b[1;32m~\\anaconda3\\Lib\\site-packages\\pandas\\util\\_decorators.py:211\u001b[0m, in \u001b[0;36mdeprecate_kwarg.<locals>._deprecate_kwarg.<locals>.wrapper\u001b[1;34m(*args, **kwargs)\u001b[0m\n\u001b[0;32m    209\u001b[0m     \u001b[38;5;28;01melse\u001b[39;00m:\n\u001b[0;32m    210\u001b[0m         kwargs[new_arg_name] \u001b[38;5;241m=\u001b[39m new_arg_value\n\u001b[1;32m--> 211\u001b[0m \u001b[38;5;28;01mreturn\u001b[39;00m func(\u001b[38;5;241m*\u001b[39margs, \u001b[38;5;241m*\u001b[39m\u001b[38;5;241m*\u001b[39mkwargs)\n",
      "File \u001b[1;32m~\\anaconda3\\Lib\\site-packages\\pandas\\util\\_decorators.py:331\u001b[0m, in \u001b[0;36mdeprecate_nonkeyword_arguments.<locals>.decorate.<locals>.wrapper\u001b[1;34m(*args, **kwargs)\u001b[0m\n\u001b[0;32m    325\u001b[0m \u001b[38;5;28;01mif\u001b[39;00m \u001b[38;5;28mlen\u001b[39m(args) \u001b[38;5;241m>\u001b[39m num_allow_args:\n\u001b[0;32m    326\u001b[0m     warnings\u001b[38;5;241m.\u001b[39mwarn(\n\u001b[0;32m    327\u001b[0m         msg\u001b[38;5;241m.\u001b[39mformat(arguments\u001b[38;5;241m=\u001b[39m_format_argument_list(allow_args)),\n\u001b[0;32m    328\u001b[0m         \u001b[38;5;167;01mFutureWarning\u001b[39;00m,\n\u001b[0;32m    329\u001b[0m         stacklevel\u001b[38;5;241m=\u001b[39mfind_stack_level(),\n\u001b[0;32m    330\u001b[0m     )\n\u001b[1;32m--> 331\u001b[0m \u001b[38;5;28;01mreturn\u001b[39;00m func(\u001b[38;5;241m*\u001b[39margs, \u001b[38;5;241m*\u001b[39m\u001b[38;5;241m*\u001b[39mkwargs)\n",
      "File \u001b[1;32m~\\anaconda3\\Lib\\site-packages\\pandas\\io\\excel\\_base.py:482\u001b[0m, in \u001b[0;36mread_excel\u001b[1;34m(io, sheet_name, header, names, index_col, usecols, squeeze, dtype, engine, converters, true_values, false_values, skiprows, nrows, na_values, keep_default_na, na_filter, verbose, parse_dates, date_parser, thousands, decimal, comment, skipfooter, convert_float, mangle_dupe_cols, storage_options)\u001b[0m\n\u001b[0;32m    480\u001b[0m \u001b[38;5;28;01mif\u001b[39;00m \u001b[38;5;129;01mnot\u001b[39;00m \u001b[38;5;28misinstance\u001b[39m(io, ExcelFile):\n\u001b[0;32m    481\u001b[0m     should_close \u001b[38;5;241m=\u001b[39m \u001b[38;5;28;01mTrue\u001b[39;00m\n\u001b[1;32m--> 482\u001b[0m     io \u001b[38;5;241m=\u001b[39m ExcelFile(io, storage_options\u001b[38;5;241m=\u001b[39mstorage_options, engine\u001b[38;5;241m=\u001b[39mengine)\n\u001b[0;32m    483\u001b[0m \u001b[38;5;28;01melif\u001b[39;00m engine \u001b[38;5;129;01mand\u001b[39;00m engine \u001b[38;5;241m!=\u001b[39m io\u001b[38;5;241m.\u001b[39mengine:\n\u001b[0;32m    484\u001b[0m     \u001b[38;5;28;01mraise\u001b[39;00m \u001b[38;5;167;01mValueError\u001b[39;00m(\n\u001b[0;32m    485\u001b[0m         \u001b[38;5;124m\"\u001b[39m\u001b[38;5;124mEngine should not be specified when passing \u001b[39m\u001b[38;5;124m\"\u001b[39m\n\u001b[0;32m    486\u001b[0m         \u001b[38;5;124m\"\u001b[39m\u001b[38;5;124man ExcelFile - ExcelFile already has the engine set\u001b[39m\u001b[38;5;124m\"\u001b[39m\n\u001b[0;32m    487\u001b[0m     )\n",
      "File \u001b[1;32m~\\anaconda3\\Lib\\site-packages\\pandas\\io\\excel\\_base.py:1652\u001b[0m, in \u001b[0;36mExcelFile.__init__\u001b[1;34m(self, path_or_buffer, engine, storage_options)\u001b[0m\n\u001b[0;32m   1650\u001b[0m     ext \u001b[38;5;241m=\u001b[39m \u001b[38;5;124m\"\u001b[39m\u001b[38;5;124mxls\u001b[39m\u001b[38;5;124m\"\u001b[39m\n\u001b[0;32m   1651\u001b[0m \u001b[38;5;28;01melse\u001b[39;00m:\n\u001b[1;32m-> 1652\u001b[0m     ext \u001b[38;5;241m=\u001b[39m inspect_excel_format(\n\u001b[0;32m   1653\u001b[0m         content_or_path\u001b[38;5;241m=\u001b[39mpath_or_buffer, storage_options\u001b[38;5;241m=\u001b[39mstorage_options\n\u001b[0;32m   1654\u001b[0m     )\n\u001b[0;32m   1655\u001b[0m     \u001b[38;5;28;01mif\u001b[39;00m ext \u001b[38;5;129;01mis\u001b[39;00m \u001b[38;5;28;01mNone\u001b[39;00m:\n\u001b[0;32m   1656\u001b[0m         \u001b[38;5;28;01mraise\u001b[39;00m \u001b[38;5;167;01mValueError\u001b[39;00m(\n\u001b[0;32m   1657\u001b[0m             \u001b[38;5;124m\"\u001b[39m\u001b[38;5;124mExcel file format cannot be determined, you must specify \u001b[39m\u001b[38;5;124m\"\u001b[39m\n\u001b[0;32m   1658\u001b[0m             \u001b[38;5;124m\"\u001b[39m\u001b[38;5;124man engine manually.\u001b[39m\u001b[38;5;124m\"\u001b[39m\n\u001b[0;32m   1659\u001b[0m         )\n",
      "File \u001b[1;32m~\\anaconda3\\Lib\\site-packages\\pandas\\io\\excel\\_base.py:1525\u001b[0m, in \u001b[0;36minspect_excel_format\u001b[1;34m(content_or_path, storage_options)\u001b[0m\n\u001b[0;32m   1522\u001b[0m \u001b[38;5;28;01mif\u001b[39;00m \u001b[38;5;28misinstance\u001b[39m(content_or_path, \u001b[38;5;28mbytes\u001b[39m):\n\u001b[0;32m   1523\u001b[0m     content_or_path \u001b[38;5;241m=\u001b[39m BytesIO(content_or_path)\n\u001b[1;32m-> 1525\u001b[0m \u001b[38;5;28;01mwith\u001b[39;00m get_handle(\n\u001b[0;32m   1526\u001b[0m     content_or_path, \u001b[38;5;124m\"\u001b[39m\u001b[38;5;124mrb\u001b[39m\u001b[38;5;124m\"\u001b[39m, storage_options\u001b[38;5;241m=\u001b[39mstorage_options, is_text\u001b[38;5;241m=\u001b[39m\u001b[38;5;28;01mFalse\u001b[39;00m\n\u001b[0;32m   1527\u001b[0m ) \u001b[38;5;28;01mas\u001b[39;00m handle:\n\u001b[0;32m   1528\u001b[0m     stream \u001b[38;5;241m=\u001b[39m handle\u001b[38;5;241m.\u001b[39mhandle\n\u001b[0;32m   1529\u001b[0m     stream\u001b[38;5;241m.\u001b[39mseek(\u001b[38;5;241m0\u001b[39m)\n",
      "File \u001b[1;32m~\\anaconda3\\Lib\\site-packages\\pandas\\io\\common.py:865\u001b[0m, in \u001b[0;36mget_handle\u001b[1;34m(path_or_buf, mode, encoding, compression, memory_map, is_text, errors, storage_options)\u001b[0m\n\u001b[0;32m    856\u001b[0m         handle \u001b[38;5;241m=\u001b[39m \u001b[38;5;28mopen\u001b[39m(\n\u001b[0;32m    857\u001b[0m             handle,\n\u001b[0;32m    858\u001b[0m             ioargs\u001b[38;5;241m.\u001b[39mmode,\n\u001b[1;32m   (...)\u001b[0m\n\u001b[0;32m    861\u001b[0m             newline\u001b[38;5;241m=\u001b[39m\u001b[38;5;124m\"\u001b[39m\u001b[38;5;124m\"\u001b[39m,\n\u001b[0;32m    862\u001b[0m         )\n\u001b[0;32m    863\u001b[0m     \u001b[38;5;28;01melse\u001b[39;00m:\n\u001b[0;32m    864\u001b[0m         \u001b[38;5;66;03m# Binary mode\u001b[39;00m\n\u001b[1;32m--> 865\u001b[0m         handle \u001b[38;5;241m=\u001b[39m \u001b[38;5;28mopen\u001b[39m(handle, ioargs\u001b[38;5;241m.\u001b[39mmode)\n\u001b[0;32m    866\u001b[0m     handles\u001b[38;5;241m.\u001b[39mappend(handle)\n\u001b[0;32m    868\u001b[0m \u001b[38;5;66;03m# Convert BytesIO or file objects passed with an encoding\u001b[39;00m\n",
      "\u001b[1;31mFileNotFoundError\u001b[0m: [Errno 2] No such file or directory: 'Table_8.1_Nuclear_Energy_Overview.xlsx'"
     ]
    }
   ],
   "source": [
    "import pandas as pd\n",
    "\n",
    "data = pd.read_excel(\"Table_8.1_Nuclear_Energy_Overview.xlsx\", header=10, index_col=0, date_parser=True)"
   ]
  },
  {
   "cell_type": "code",
   "execution_count": 3,
   "id": "392e89ab",
   "metadata": {},
   "outputs": [
    {
     "ename": "NameError",
     "evalue": "name 'data' is not defined",
     "output_type": "error",
     "traceback": [
      "\u001b[1;31m---------------------------------------------------------------------------\u001b[0m",
      "\u001b[1;31mNameError\u001b[0m                                 Traceback (most recent call last)",
      "Cell \u001b[1;32mIn[3], line 1\u001b[0m\n\u001b[1;32m----> 1\u001b[0m data\u001b[38;5;241m.\u001b[39mdrop(data\u001b[38;5;241m.\u001b[39mindex[\u001b[38;5;241m0\u001b[39m])\n",
      "\u001b[1;31mNameError\u001b[0m: name 'data' is not defined"
     ]
    }
   ],
   "source": [
    "data.drop(data.index[0])"
   ]
  },
  {
   "cell_type": "markdown",
   "id": "c76e0db4",
   "metadata": {},
   "source": [
    "The data below shows the coal electric power sector's carbon emissions over the course of the past 50 years. As seen in the graph, emissions peaked in 2007 but have decreased since then. However, even at its lowest, 800 million metric tons of CO2 emissions is still detrimental and this is only one sector."
   ]
  },
  {
   "cell_type": "code",
   "execution_count": null,
   "id": "2e5e970b",
   "metadata": {
    "scrolled": true
   },
   "outputs": [],
   "source": [
    "coal_electric_cd_emissions_data = pd.read_excel(\"EMISSCO2TOTVECCOA.xls\", header = 10)\n",
    "coal_electric_cd_emissions_data.columns = [\"date\", \"coal_emissions\"]\n",
    "coal_electric_cd_emissions_data.tail()"
   ]
  },
  {
   "cell_type": "code",
   "execution_count": null,
   "id": "3cfe6a0b",
   "metadata": {},
   "outputs": [],
   "source": [
    "import matplotlib.pyplot as plt\n",
    "x_values = coal_electric_cd_emissions_data['date']\n",
    "y_values = coal_electric_cd_emissions_data['coal_emissions']\n",
    "\n",
    "fig, ax = plt.subplots(figsize = (10,5))\n",
    "plt.plot(x_values, y_values, linestyle='-')\n",
    "plt.title('Coal Electric Power CO2 Emissions Over Years')\n",
    "plt.xlabel('Year')\n",
    "plt.ylabel('Million Metric Tons CO2')\n",
    "plt.grid(True)\n",
    "plt.show()"
   ]
  },
  {
   "cell_type": "markdown",
   "id": "6d60fba4",
   "metadata": {},
   "source": [
    "This is the same graph as above but is interactive, allowing one to see each observation and year in which it was recorded. "
   ]
  },
  {
   "cell_type": "code",
   "execution_count": null,
   "id": "7855084a",
   "metadata": {},
   "outputs": [],
   "source": [
    "import plotly.graph_objects as go\n",
    "fig = go.Figure()\n",
    "\n",
    "fig.add_trace(go.Scatter(x=x_values, y=y_values, mode='lines+markers',\n",
    "                         line=dict(shape='linear'), marker=dict(symbol='circle'),\n",
    "                         name='CO2 Emissions'))\n",
    "fig.update_layout(title='Coal Electric Power CO2 Emissions Over Years',\n",
    "                  xaxis=dict(title='Year'),\n",
    "                  yaxis=dict(title='Million Metric Tons CO2'),\n",
    "                  showlegend=True)\n",
    "fig.show()"
   ]
  },
  {
   "cell_type": "markdown",
   "id": "c9a753b2",
   "metadata": {},
   "source": [
    "This data represents the petroleum electric power sector's carbon emissions over the past 50 years. The graph shows a peak at around 300 million metric tons in 1978 followed by a sharp decline. The data frame shows that as of January 1st, 2022 the carbon emissions from this sector are 20.524 million metric tons. "
   ]
  },
  {
   "cell_type": "code",
   "execution_count": null,
   "id": "332ed99d",
   "metadata": {},
   "outputs": [],
   "source": [
    "petroleum_electric_cd_emissions_data = pd.read_excel(\"EMISSCO2TOTVECPEA.xls\", header = 10)\n",
    "petroleum_electric_cd_emissions_data.columns = [\"date\", \"petroleum_emissions\"]\n",
    "petroleum_electric_cd_emissions_data.tail()"
   ]
  },
  {
   "cell_type": "code",
   "execution_count": null,
   "id": "c93bb3e6",
   "metadata": {},
   "outputs": [],
   "source": [
    "x_values = petroleum_electric_cd_emissions_data['date']\n",
    "y_values = petroleum_electric_cd_emissions_data['petroleum_emissions']\n",
    "\n",
    "fig, ax = plt.subplots(figsize = (10,5))\n",
    "plt.plot(x_values, y_values, linestyle='-')\n",
    "plt.title('Petroleum Electric Power CO2 Emissions Over Years')\n",
    "plt.xlabel('Year')\n",
    "plt.ylabel('Million Metric Tons CO2')\n",
    "plt.grid(True)\n",
    "plt.show()"
   ]
  },
  {
   "cell_type": "markdown",
   "id": "f113a5b7",
   "metadata": {},
   "source": [
    "For reference this data represents the total carbon emissions from all sectors in the United States over the past 50 years."
   ]
  },
  {
   "cell_type": "code",
   "execution_count": null,
   "id": "7b663385",
   "metadata": {},
   "outputs": [],
   "source": [
    "total_electric_cd_emissions_data = pd.read_excel(\"EMISSCO2TOTVECTOUSA.xls\", header = 10)\n",
    "total_electric_cd_emissions_data.columns = [\"date\", \"electric_emissions\"]"
   ]
  },
  {
   "cell_type": "code",
   "execution_count": null,
   "id": "8b29c0e3",
   "metadata": {
    "scrolled": true
   },
   "outputs": [],
   "source": [
    "total_electric_cd_emissions_data.tail()"
   ]
  },
  {
   "cell_type": "code",
   "execution_count": null,
   "id": "9e2ce432",
   "metadata": {},
   "outputs": [],
   "source": [
    "x_values = total_electric_cd_emissions_data['date']\n",
    "y_values = total_electric_cd_emissions_data['electric_emissions']\n",
    "\n",
    "fig, ax = plt.subplots(figsize = (10,5))\n",
    "plt.plot(x_values, y_values, linestyle='-')\n",
    "plt.title('Total Electric CO2 Emissions Over Years')\n",
    "plt.xlabel('Year')\n",
    "plt.ylabel('Million Metric Tons CO2')\n",
    "plt.grid(True)\n",
    "plt.show()"
   ]
  },
  {
   "cell_type": "markdown",
   "id": "535a6451",
   "metadata": {},
   "source": [
    "As seen above carbon emissions from generating electricity in the United States peaked around 2007 with close to 2400 million metric tons. As of 2021 emissions have dropped substantially to around 1500 million metric tons."
   ]
  },
  {
   "cell_type": "code",
   "execution_count": null,
   "id": "4f5b511c",
   "metadata": {},
   "outputs": [],
   "source": [
    "total_electric_cd_emissions_data[3:]"
   ]
  },
  {
   "cell_type": "code",
   "execution_count": null,
   "id": "45aa86db",
   "metadata": {},
   "outputs": [],
   "source": [
    "emissions_data = pd.DataFrame()\n",
    "emissions_data.index = coal_electric_cd_emissions_data.index\n",
    "emissions_data[\"date\"] = coal_electric_cd_emissions_data[\"date\"]\n",
    "emissions_data[\"coal\"] = coal_electric_cd_emissions_data[\"coal_emissions\"]\n",
    "emissions_data[\"petroleum\"] = petroleum_electric_cd_emissions_data['petroleum_emissions']\n",
    "emissions_data[\"electric\"] = total_electric_cd_emissions_data[\"electric_emissions\"]"
   ]
  },
  {
   "cell_type": "code",
   "execution_count": null,
   "id": "7abb4095",
   "metadata": {},
   "outputs": [],
   "source": [
    "emissions_data.iloc[:-1]"
   ]
  },
  {
   "cell_type": "code",
   "execution_count": null,
   "id": "0bf81657",
   "metadata": {},
   "outputs": [],
   "source": [
    "x_value = coal_electric_cd_emissions_data['date']\n",
    "y_value1 = coal_electric_cd_emissions_data['coal_emissions']\n",
    "\n",
    "y_value2 = petroleum_electric_cd_emissions_data['petroleum_emissions']\n",
    "\n",
    "y_value3 = total_electric_cd_emissions_data['electric_emissions']\n",
    "\n",
    "fig, ax = plt.subplots(figsize=(10, 5))\n",
    "emissions_data.plot(x=\"date\", ax=ax)\n",
    "\n",
    "ax.set_xlabel('Year')\n",
    "ax.set_ylabel('Million Metric Tons')\n",
    "ax.set_title('Coal and Petroleum Electric Emissions Compared to Total Electric Emissions')\n",
    "ax.legend()\n",
    "plt.show()"
   ]
  },
  {
   "cell_type": "markdown",
   "id": "1e0e3fb2",
   "metadata": {},
   "source": [
    "This graph displays the total carbon emissions produced when generating electricity right alongside the coal and petroleum allowing one to see the percentage these two sectors make up of the entire amount of CO2 emissions that results from creating electricity. "
   ]
  },
  {
   "cell_type": "code",
   "execution_count": null,
   "id": "8b28bcc7",
   "metadata": {},
   "outputs": [],
   "source": [
    "sources_data = pd.read_excel(\"Electricity energy sources.xlsx\", header = 10)\n",
    "sources_data"
   ]
  },
  {
   "cell_type": "code",
   "execution_count": null,
   "id": "e7990b67",
   "metadata": {},
   "outputs": [],
   "source": [
    "total = sources_data[sources_data[\"Energy Source\"] == \"Total (all sources)\"][\"Billion kWh\"].iloc[0]\n",
    "total\n",
    "\n",
    "sources_data[\"Percent Contribution\"] = sources_data[\"Billion kWh\"] / total"
   ]
  },
  {
   "cell_type": "code",
   "execution_count": null,
   "id": "6e3f9b5f",
   "metadata": {},
   "outputs": [],
   "source": [
    "sources_data"
   ]
  },
  {
   "cell_type": "markdown",
   "id": "522b8c2d",
   "metadata": {},
   "source": [
    "The data frame above demonstrates how much electricity was generated (in billion kWh) in the United States in 2022. "
   ]
  }
 ],
 "metadata": {
  "kernelspec": {
   "display_name": "Python 3 (ipykernel)",
   "language": "python",
   "name": "python3"
  },
  "language_info": {
   "codemirror_mode": {
    "name": "ipython",
    "version": 3
   },
   "file_extension": ".py",
   "mimetype": "text/x-python",
   "name": "python",
   "nbconvert_exporter": "python",
   "pygments_lexer": "ipython3",
   "version": "3.11.4"
  }
 },
 "nbformat": 4,
 "nbformat_minor": 5
}
