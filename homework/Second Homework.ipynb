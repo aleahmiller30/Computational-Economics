{
 "cells": [
  {
   "cell_type": "markdown",
   "id": "8531f275",
   "metadata": {},
   "source": [
    "# Second Homework"
   ]
  },
  {
   "cell_type": "markdown",
   "id": "7569b77c",
   "metadata": {},
   "source": [
    "1. Create an array with (100) elements using np.arange()\n",
    "\n",
    "2. Create two numpy arrays whose values are neither all 0 or 1. Multiply the two arrays and save the result i.e., result = array1 * array2.\n",
    "\n",
    "3. Create a dictionary where each key points to a unique numpy array. All arrays should be of the same length. Then transform that dictionary into a pandas dataframe.\n",
    "\n",
    "4. Import a data set for your project in pandas. You may use whatever means you prefer to import the data. Print the dataframe.\n",
    "\n",
    "5. Create a new column of data derived from the data that you have already imported. hint: this may be a ratio or whatever transformation that you think would be useful...\n",
    "\n",
    "6. Use a for loop to print individually each column in the dataframe.\n",
    "\n",
    "7. Create a function that plots 2 to 3 different variables from the dataframe. The function may look something like \"def plot_data(df,names, etc...). Each plot should include a legend and title.\n",
    "\n",
    "8. Create a bar graph plot using the data you have imported.\n",
    "\n",
    "9. On any of the graphs you have created, change the font size, axis labels, tick labels, color, linewidth, and so forth. Adjust these parameters to make the visualization aesthetically appealing.."
   ]
  },
  {
   "cell_type": "markdown",
   "id": "fca18067",
   "metadata": {},
   "source": [
    "## 1."
   ]
  },
  {
   "cell_type": "code",
   "execution_count": 1,
   "id": "5e84136f",
   "metadata": {},
   "outputs": [
    {
     "data": {
      "text/plain": [
       "array([  0,   1,   2,   3,   4,   5,   6,   7,   8,   9,  10,  11,  12,\n",
       "        13,  14,  15,  16,  17,  18,  19,  20,  21,  22,  23,  24,  25,\n",
       "        26,  27,  28,  29,  30,  31,  32,  33,  34,  35,  36,  37,  38,\n",
       "        39,  40,  41,  42,  43,  44,  45,  46,  47,  48,  49,  50,  51,\n",
       "        52,  53,  54,  55,  56,  57,  58,  59,  60,  61,  62,  63,  64,\n",
       "        65,  66,  67,  68,  69,  70,  71,  72,  73,  74,  75,  76,  77,\n",
       "        78,  79,  80,  81,  82,  83,  84,  85,  86,  87,  88,  89,  90,\n",
       "        91,  92,  93,  94,  95,  96,  97,  98,  99, 100])"
      ]
     },
     "execution_count": 1,
     "metadata": {},
     "output_type": "execute_result"
    }
   ],
   "source": [
    "import numpy as np\n",
    "first_array = np.arange(0,101)\n",
    "first_array"
   ]
  },
  {
   "cell_type": "markdown",
   "id": "df5230cb",
   "metadata": {},
   "source": [
    "## 2. "
   ]
  },
  {
   "cell_type": "code",
   "execution_count": 5,
   "id": "3b8f04ae",
   "metadata": {},
   "outputs": [
    {
     "name": "stdout",
     "output_type": "stream",
     "text": [
      "[0 0 0 0 0 0 0 0 0 0 0 0 0 0 0 0 0 0 0 0 0 0 0 0 0 0 0 0 0 0 0 0 0 0 0 0 0\n",
      " 0 0 0 0 0 0 0 0 0 0 0 0 0 0 0 0 0 0 0 0 0 0 0 0 0 0 0 0 0 0 0 0 0 0 0 0 0\n",
      " 0 0 0 0 0 0 0 0 0 0 0 0 0 0 0 0 0 0 0 0 0 0 0 0 0 0 0]\n"
     ]
    }
   ],
   "source": [
    "second_array = np.asarray([0 for i in range(101)])\n",
    "print(second_array)"
   ]
  },
  {
   "cell_type": "code",
   "execution_count": 6,
   "id": "51b6fa46",
   "metadata": {},
   "outputs": [
    {
     "name": "stdout",
     "output_type": "stream",
     "text": [
      "[1 1 1 1 1 1 1 1 1 1 1 1 1 1 1 1 1 1 1 1 1 1 1 1 1 1 1 1 1 1 1 1 1 1 1 1 1\n",
      " 1 1 1 1 1 1 1 1 1 1 1 1 1 1 1 1 1 1 1 1 1 1 1 1 1 1 1 1 1 1 1 1 1 1 1 1 1\n",
      " 1 1 1 1 1 1 1 1 1 1 1 1 1 1 1 1 1 1 1 1 1 1 1 1 1 1 1]\n"
     ]
    }
   ],
   "source": [
    "third_array = np.asarray([1 for i in range(101)])\n",
    "print(third_array)"
   ]
  },
  {
   "cell_type": "code",
   "execution_count": 7,
   "id": "0848bd12",
   "metadata": {},
   "outputs": [
    {
     "data": {
      "text/plain": [
       "array([0, 0, 0, 0, 0, 0, 0, 0, 0, 0, 0, 0, 0, 0, 0, 0, 0, 0, 0, 0, 0, 0,\n",
       "       0, 0, 0, 0, 0, 0, 0, 0, 0, 0, 0, 0, 0, 0, 0, 0, 0, 0, 0, 0, 0, 0,\n",
       "       0, 0, 0, 0, 0, 0, 0, 0, 0, 0, 0, 0, 0, 0, 0, 0, 0, 0, 0, 0, 0, 0,\n",
       "       0, 0, 0, 0, 0, 0, 0, 0, 0, 0, 0, 0, 0, 0, 0, 0, 0, 0, 0, 0, 0, 0,\n",
       "       0, 0, 0, 0, 0, 0, 0, 0, 0, 0, 0, 0, 0])"
      ]
     },
     "execution_count": 7,
     "metadata": {},
     "output_type": "execute_result"
    }
   ],
   "source": [
    "multiple_array = second_array * third_array\n",
    "multiple_array"
   ]
  },
  {
   "cell_type": "markdown",
   "id": "d52ca435",
   "metadata": {},
   "source": [
    "## 3. "
   ]
  },
  {
   "cell_type": "code",
   "execution_count": 8,
   "id": "00e27bdb",
   "metadata": {},
   "outputs": [],
   "source": [
    "import pandas as pd\n",
    "arrays_dict = {1:first_array, 2:second_array, 3:third_array}"
   ]
  },
  {
   "cell_type": "code",
   "execution_count": 9,
   "id": "f68a635a",
   "metadata": {},
   "outputs": [
    {
     "data": {
      "text/html": [
       "<div>\n",
       "<style scoped>\n",
       "    .dataframe tbody tr th:only-of-type {\n",
       "        vertical-align: middle;\n",
       "    }\n",
       "\n",
       "    .dataframe tbody tr th {\n",
       "        vertical-align: top;\n",
       "    }\n",
       "\n",
       "    .dataframe thead th {\n",
       "        text-align: right;\n",
       "    }\n",
       "</style>\n",
       "<table border=\"1\" class=\"dataframe\">\n",
       "  <thead>\n",
       "    <tr style=\"text-align: right;\">\n",
       "      <th></th>\n",
       "      <th>1</th>\n",
       "      <th>2</th>\n",
       "      <th>3</th>\n",
       "    </tr>\n",
       "  </thead>\n",
       "  <tbody>\n",
       "    <tr>\n",
       "      <th>0</th>\n",
       "      <td>0</td>\n",
       "      <td>0</td>\n",
       "      <td>1</td>\n",
       "    </tr>\n",
       "    <tr>\n",
       "      <th>1</th>\n",
       "      <td>1</td>\n",
       "      <td>0</td>\n",
       "      <td>1</td>\n",
       "    </tr>\n",
       "    <tr>\n",
       "      <th>2</th>\n",
       "      <td>2</td>\n",
       "      <td>0</td>\n",
       "      <td>1</td>\n",
       "    </tr>\n",
       "    <tr>\n",
       "      <th>3</th>\n",
       "      <td>3</td>\n",
       "      <td>0</td>\n",
       "      <td>1</td>\n",
       "    </tr>\n",
       "    <tr>\n",
       "      <th>4</th>\n",
       "      <td>4</td>\n",
       "      <td>0</td>\n",
       "      <td>1</td>\n",
       "    </tr>\n",
       "    <tr>\n",
       "      <th>...</th>\n",
       "      <td>...</td>\n",
       "      <td>...</td>\n",
       "      <td>...</td>\n",
       "    </tr>\n",
       "    <tr>\n",
       "      <th>96</th>\n",
       "      <td>96</td>\n",
       "      <td>0</td>\n",
       "      <td>1</td>\n",
       "    </tr>\n",
       "    <tr>\n",
       "      <th>97</th>\n",
       "      <td>97</td>\n",
       "      <td>0</td>\n",
       "      <td>1</td>\n",
       "    </tr>\n",
       "    <tr>\n",
       "      <th>98</th>\n",
       "      <td>98</td>\n",
       "      <td>0</td>\n",
       "      <td>1</td>\n",
       "    </tr>\n",
       "    <tr>\n",
       "      <th>99</th>\n",
       "      <td>99</td>\n",
       "      <td>0</td>\n",
       "      <td>1</td>\n",
       "    </tr>\n",
       "    <tr>\n",
       "      <th>100</th>\n",
       "      <td>100</td>\n",
       "      <td>0</td>\n",
       "      <td>1</td>\n",
       "    </tr>\n",
       "  </tbody>\n",
       "</table>\n",
       "<p>101 rows × 3 columns</p>\n",
       "</div>"
      ],
      "text/plain": [
       "       1  2  3\n",
       "0      0  0  1\n",
       "1      1  0  1\n",
       "2      2  0  1\n",
       "3      3  0  1\n",
       "4      4  0  1\n",
       "..   ... .. ..\n",
       "96    96  0  1\n",
       "97    97  0  1\n",
       "98    98  0  1\n",
       "99    99  0  1\n",
       "100  100  0  1\n",
       "\n",
       "[101 rows x 3 columns]"
      ]
     },
     "execution_count": 9,
     "metadata": {},
     "output_type": "execute_result"
    }
   ],
   "source": [
    "pd.DataFrame(arrays_dict)"
   ]
  },
  {
   "cell_type": "markdown",
   "id": "dbc133c5",
   "metadata": {},
   "source": [
    "## 4."
   ]
  },
  {
   "cell_type": "code",
   "execution_count": 10,
   "id": "d8f58498",
   "metadata": {},
   "outputs": [
    {
     "data": {
      "text/html": [
       "<div>\n",
       "<style scoped>\n",
       "    .dataframe tbody tr th:only-of-type {\n",
       "        vertical-align: middle;\n",
       "    }\n",
       "\n",
       "    .dataframe tbody tr th {\n",
       "        vertical-align: top;\n",
       "    }\n",
       "\n",
       "    .dataframe thead th {\n",
       "        text-align: right;\n",
       "    }\n",
       "</style>\n",
       "<table border=\"1\" class=\"dataframe\">\n",
       "  <thead>\n",
       "    <tr style=\"text-align: right;\">\n",
       "      <th></th>\n",
       "      <th>DATE</th>\n",
       "      <th>Total Liabilities</th>\n",
       "      <th>Federal Reserve Notes Outstanding</th>\n",
       "      <th>U.S. Treasury General Account</th>\n",
       "      <th>Deposits from Dep. Institutions</th>\n",
       "      <th>Other Deposits</th>\n",
       "      <th>Reverse Repos</th>\n",
       "      <th>Other Liabilities</th>\n",
       "    </tr>\n",
       "  </thead>\n",
       "  <tbody>\n",
       "    <tr>\n",
       "      <th>0</th>\n",
       "      <td>2002-12-31</td>\n",
       "      <td>0.707951</td>\n",
       "      <td>0.648745</td>\n",
       "      <td>0.005628</td>\n",
       "      <td>0.021322</td>\n",
       "      <td>0.000363</td>\n",
       "      <td>0.021150</td>\n",
       "      <td>0.010743</td>\n",
       "    </tr>\n",
       "    <tr>\n",
       "      <th>1</th>\n",
       "      <td>2003-01-31</td>\n",
       "      <td>0.707521</td>\n",
       "      <td>0.646023</td>\n",
       "      <td>0.005650</td>\n",
       "      <td>0.026137</td>\n",
       "      <td>0.000573</td>\n",
       "      <td>0.018920</td>\n",
       "      <td>0.010218</td>\n",
       "    </tr>\n",
       "    <tr>\n",
       "      <th>2</th>\n",
       "      <td>2003-02-28</td>\n",
       "      <td>0.704108</td>\n",
       "      <td>0.648417</td>\n",
       "      <td>0.004637</td>\n",
       "      <td>0.023256</td>\n",
       "      <td>0.000383</td>\n",
       "      <td>0.017715</td>\n",
       "      <td>0.009699</td>\n",
       "    </tr>\n",
       "    <tr>\n",
       "      <th>3</th>\n",
       "      <td>2003-03-31</td>\n",
       "      <td>0.706357</td>\n",
       "      <td>0.651600</td>\n",
       "      <td>0.004953</td>\n",
       "      <td>0.022239</td>\n",
       "      <td>0.000360</td>\n",
       "      <td>0.018133</td>\n",
       "      <td>0.009072</td>\n",
       "    </tr>\n",
       "    <tr>\n",
       "      <th>4</th>\n",
       "      <td>2003-04-30</td>\n",
       "      <td>0.719367</td>\n",
       "      <td>0.655045</td>\n",
       "      <td>0.008352</td>\n",
       "      <td>0.025665</td>\n",
       "      <td>0.000396</td>\n",
       "      <td>0.020125</td>\n",
       "      <td>0.009784</td>\n",
       "    </tr>\n",
       "    <tr>\n",
       "      <th>...</th>\n",
       "      <td>...</td>\n",
       "      <td>...</td>\n",
       "      <td>...</td>\n",
       "      <td>...</td>\n",
       "      <td>...</td>\n",
       "      <td>...</td>\n",
       "      <td>...</td>\n",
       "      <td>...</td>\n",
       "    </tr>\n",
       "    <tr>\n",
       "      <th>221</th>\n",
       "      <td>2021-05-31</td>\n",
       "      <td>7.827495</td>\n",
       "      <td>2.120472</td>\n",
       "      <td>0.862533</td>\n",
       "      <td>3.883068</td>\n",
       "      <td>0.397279</td>\n",
       "      <td>0.502431</td>\n",
       "      <td>0.061712</td>\n",
       "    </tr>\n",
       "    <tr>\n",
       "      <th>222</th>\n",
       "      <td>2021-06-30</td>\n",
       "      <td>7.986989</td>\n",
       "      <td>2.130867</td>\n",
       "      <td>0.767312</td>\n",
       "      <td>3.789613</td>\n",
       "      <td>0.349301</td>\n",
       "      <td>0.890892</td>\n",
       "      <td>0.059004</td>\n",
       "    </tr>\n",
       "    <tr>\n",
       "      <th>223</th>\n",
       "      <td>2021-07-31</td>\n",
       "      <td>8.150754</td>\n",
       "      <td>2.137390</td>\n",
       "      <td>0.633925</td>\n",
       "      <td>3.944128</td>\n",
       "      <td>0.253935</td>\n",
       "      <td>1.129328</td>\n",
       "      <td>0.052049</td>\n",
       "    </tr>\n",
       "    <tr>\n",
       "      <th>224</th>\n",
       "      <td>2021-08-31</td>\n",
       "      <td>8.252159</td>\n",
       "      <td>2.139164</td>\n",
       "      <td>0.366867</td>\n",
       "      <td>4.134707</td>\n",
       "      <td>0.243109</td>\n",
       "      <td>1.318717</td>\n",
       "      <td>0.049596</td>\n",
       "    </tr>\n",
       "    <tr>\n",
       "      <th>225</th>\n",
       "      <td>2021-09-30</td>\n",
       "      <td>8.309378</td>\n",
       "      <td>2.142848</td>\n",
       "      <td>0.296934</td>\n",
       "      <td>4.206449</td>\n",
       "      <td>0.236593</td>\n",
       "      <td>1.376296</td>\n",
       "      <td>0.050258</td>\n",
       "    </tr>\n",
       "  </tbody>\n",
       "</table>\n",
       "<p>226 rows × 8 columns</p>\n",
       "</div>"
      ],
      "text/plain": [
       "           DATE  Total Liabilities  Federal Reserve Notes Outstanding  \\\n",
       "0    2002-12-31           0.707951                           0.648745   \n",
       "1    2003-01-31           0.707521                           0.646023   \n",
       "2    2003-02-28           0.704108                           0.648417   \n",
       "3    2003-03-31           0.706357                           0.651600   \n",
       "4    2003-04-30           0.719367                           0.655045   \n",
       "..          ...                ...                                ...   \n",
       "221  2021-05-31           7.827495                           2.120472   \n",
       "222  2021-06-30           7.986989                           2.130867   \n",
       "223  2021-07-31           8.150754                           2.137390   \n",
       "224  2021-08-31           8.252159                           2.139164   \n",
       "225  2021-09-30           8.309378                           2.142848   \n",
       "\n",
       "     U.S. Treasury General Account  Deposits from Dep. Institutions  \\\n",
       "0                         0.005628                         0.021322   \n",
       "1                         0.005650                         0.026137   \n",
       "2                         0.004637                         0.023256   \n",
       "3                         0.004953                         0.022239   \n",
       "4                         0.008352                         0.025665   \n",
       "..                             ...                              ...   \n",
       "221                       0.862533                         3.883068   \n",
       "222                       0.767312                         3.789613   \n",
       "223                       0.633925                         3.944128   \n",
       "224                       0.366867                         4.134707   \n",
       "225                       0.296934                         4.206449   \n",
       "\n",
       "     Other Deposits  Reverse Repos  Other Liabilities  \n",
       "0          0.000363       0.021150           0.010743  \n",
       "1          0.000573       0.018920           0.010218  \n",
       "2          0.000383       0.017715           0.009699  \n",
       "3          0.000360       0.018133           0.009072  \n",
       "4          0.000396       0.020125           0.009784  \n",
       "..              ...            ...                ...  \n",
       "221        0.397279       0.502431           0.061712  \n",
       "222        0.349301       0.890892           0.059004  \n",
       "223        0.253935       1.129328           0.052049  \n",
       "224        0.243109       1.318717           0.049596  \n",
       "225        0.236593       1.376296           0.050258  \n",
       "\n",
       "[226 rows x 8 columns]"
      ]
     },
     "execution_count": 10,
     "metadata": {},
     "output_type": "execute_result"
    }
   ],
   "source": [
    "data = pd.read_csv(\"FederalReserveLiabilities.csv\")\n",
    "data"
   ]
  },
  {
   "cell_type": "markdown",
   "id": "e7a35430",
   "metadata": {},
   "source": [
    "## 5."
   ]
  },
  {
   "cell_type": "code",
   "execution_count": 12,
   "id": "bc05700e",
   "metadata": {},
   "outputs": [
    {
     "data": {
      "text/html": [
       "<div>\n",
       "<style scoped>\n",
       "    .dataframe tbody tr th:only-of-type {\n",
       "        vertical-align: middle;\n",
       "    }\n",
       "\n",
       "    .dataframe tbody tr th {\n",
       "        vertical-align: top;\n",
       "    }\n",
       "\n",
       "    .dataframe thead th {\n",
       "        text-align: right;\n",
       "    }\n",
       "</style>\n",
       "<table border=\"1\" class=\"dataframe\">\n",
       "  <thead>\n",
       "    <tr style=\"text-align: right;\">\n",
       "      <th></th>\n",
       "      <th>DATE</th>\n",
       "      <th>Total Liabilities</th>\n",
       "      <th>Federal Reserve Notes Outstanding</th>\n",
       "      <th>U.S. Treasury General Account</th>\n",
       "      <th>Deposits from Dep. Institutions</th>\n",
       "      <th>Other Deposits</th>\n",
       "      <th>Reverse Repos</th>\n",
       "      <th>Other Liabilities</th>\n",
       "      <th>Federal Reserve Notes %</th>\n",
       "    </tr>\n",
       "  </thead>\n",
       "  <tbody>\n",
       "    <tr>\n",
       "      <th>0</th>\n",
       "      <td>2002-12-31</td>\n",
       "      <td>0.707951</td>\n",
       "      <td>0.648745</td>\n",
       "      <td>0.005628</td>\n",
       "      <td>0.021322</td>\n",
       "      <td>0.000363</td>\n",
       "      <td>0.021150</td>\n",
       "      <td>0.010743</td>\n",
       "      <td>0.916369</td>\n",
       "    </tr>\n",
       "    <tr>\n",
       "      <th>1</th>\n",
       "      <td>2003-01-31</td>\n",
       "      <td>0.707521</td>\n",
       "      <td>0.646023</td>\n",
       "      <td>0.005650</td>\n",
       "      <td>0.026137</td>\n",
       "      <td>0.000573</td>\n",
       "      <td>0.018920</td>\n",
       "      <td>0.010218</td>\n",
       "      <td>0.913079</td>\n",
       "    </tr>\n",
       "    <tr>\n",
       "      <th>2</th>\n",
       "      <td>2003-02-28</td>\n",
       "      <td>0.704108</td>\n",
       "      <td>0.648417</td>\n",
       "      <td>0.004637</td>\n",
       "      <td>0.023256</td>\n",
       "      <td>0.000383</td>\n",
       "      <td>0.017715</td>\n",
       "      <td>0.009699</td>\n",
       "      <td>0.920906</td>\n",
       "    </tr>\n",
       "    <tr>\n",
       "      <th>3</th>\n",
       "      <td>2003-03-31</td>\n",
       "      <td>0.706357</td>\n",
       "      <td>0.651600</td>\n",
       "      <td>0.004953</td>\n",
       "      <td>0.022239</td>\n",
       "      <td>0.000360</td>\n",
       "      <td>0.018133</td>\n",
       "      <td>0.009072</td>\n",
       "      <td>0.922480</td>\n",
       "    </tr>\n",
       "    <tr>\n",
       "      <th>4</th>\n",
       "      <td>2003-04-30</td>\n",
       "      <td>0.719367</td>\n",
       "      <td>0.655045</td>\n",
       "      <td>0.008352</td>\n",
       "      <td>0.025665</td>\n",
       "      <td>0.000396</td>\n",
       "      <td>0.020125</td>\n",
       "      <td>0.009784</td>\n",
       "      <td>0.910586</td>\n",
       "    </tr>\n",
       "    <tr>\n",
       "      <th>...</th>\n",
       "      <td>...</td>\n",
       "      <td>...</td>\n",
       "      <td>...</td>\n",
       "      <td>...</td>\n",
       "      <td>...</td>\n",
       "      <td>...</td>\n",
       "      <td>...</td>\n",
       "      <td>...</td>\n",
       "      <td>...</td>\n",
       "    </tr>\n",
       "    <tr>\n",
       "      <th>221</th>\n",
       "      <td>2021-05-31</td>\n",
       "      <td>7.827495</td>\n",
       "      <td>2.120472</td>\n",
       "      <td>0.862533</td>\n",
       "      <td>3.883068</td>\n",
       "      <td>0.397279</td>\n",
       "      <td>0.502431</td>\n",
       "      <td>0.061712</td>\n",
       "      <td>0.270900</td>\n",
       "    </tr>\n",
       "    <tr>\n",
       "      <th>222</th>\n",
       "      <td>2021-06-30</td>\n",
       "      <td>7.986989</td>\n",
       "      <td>2.130867</td>\n",
       "      <td>0.767312</td>\n",
       "      <td>3.789613</td>\n",
       "      <td>0.349301</td>\n",
       "      <td>0.890892</td>\n",
       "      <td>0.059004</td>\n",
       "      <td>0.266792</td>\n",
       "    </tr>\n",
       "    <tr>\n",
       "      <th>223</th>\n",
       "      <td>2021-07-31</td>\n",
       "      <td>8.150754</td>\n",
       "      <td>2.137390</td>\n",
       "      <td>0.633925</td>\n",
       "      <td>3.944128</td>\n",
       "      <td>0.253935</td>\n",
       "      <td>1.129328</td>\n",
       "      <td>0.052049</td>\n",
       "      <td>0.262232</td>\n",
       "    </tr>\n",
       "    <tr>\n",
       "      <th>224</th>\n",
       "      <td>2021-08-31</td>\n",
       "      <td>8.252159</td>\n",
       "      <td>2.139164</td>\n",
       "      <td>0.366867</td>\n",
       "      <td>4.134707</td>\n",
       "      <td>0.243109</td>\n",
       "      <td>1.318717</td>\n",
       "      <td>0.049596</td>\n",
       "      <td>0.259225</td>\n",
       "    </tr>\n",
       "    <tr>\n",
       "      <th>225</th>\n",
       "      <td>2021-09-30</td>\n",
       "      <td>8.309378</td>\n",
       "      <td>2.142848</td>\n",
       "      <td>0.296934</td>\n",
       "      <td>4.206449</td>\n",
       "      <td>0.236593</td>\n",
       "      <td>1.376296</td>\n",
       "      <td>0.050258</td>\n",
       "      <td>0.257883</td>\n",
       "    </tr>\n",
       "  </tbody>\n",
       "</table>\n",
       "<p>226 rows × 9 columns</p>\n",
       "</div>"
      ],
      "text/plain": [
       "           DATE  Total Liabilities  Federal Reserve Notes Outstanding  \\\n",
       "0    2002-12-31           0.707951                           0.648745   \n",
       "1    2003-01-31           0.707521                           0.646023   \n",
       "2    2003-02-28           0.704108                           0.648417   \n",
       "3    2003-03-31           0.706357                           0.651600   \n",
       "4    2003-04-30           0.719367                           0.655045   \n",
       "..          ...                ...                                ...   \n",
       "221  2021-05-31           7.827495                           2.120472   \n",
       "222  2021-06-30           7.986989                           2.130867   \n",
       "223  2021-07-31           8.150754                           2.137390   \n",
       "224  2021-08-31           8.252159                           2.139164   \n",
       "225  2021-09-30           8.309378                           2.142848   \n",
       "\n",
       "     U.S. Treasury General Account  Deposits from Dep. Institutions  \\\n",
       "0                         0.005628                         0.021322   \n",
       "1                         0.005650                         0.026137   \n",
       "2                         0.004637                         0.023256   \n",
       "3                         0.004953                         0.022239   \n",
       "4                         0.008352                         0.025665   \n",
       "..                             ...                              ...   \n",
       "221                       0.862533                         3.883068   \n",
       "222                       0.767312                         3.789613   \n",
       "223                       0.633925                         3.944128   \n",
       "224                       0.366867                         4.134707   \n",
       "225                       0.296934                         4.206449   \n",
       "\n",
       "     Other Deposits  Reverse Repos  Other Liabilities  Federal Reserve Notes %  \n",
       "0          0.000363       0.021150           0.010743                 0.916369  \n",
       "1          0.000573       0.018920           0.010218                 0.913079  \n",
       "2          0.000383       0.017715           0.009699                 0.920906  \n",
       "3          0.000360       0.018133           0.009072                 0.922480  \n",
       "4          0.000396       0.020125           0.009784                 0.910586  \n",
       "..              ...            ...                ...                      ...  \n",
       "221        0.397279       0.502431           0.061712                 0.270900  \n",
       "222        0.349301       0.890892           0.059004                 0.266792  \n",
       "223        0.253935       1.129328           0.052049                 0.262232  \n",
       "224        0.243109       1.318717           0.049596                 0.259225  \n",
       "225        0.236593       1.376296           0.050258                 0.257883  \n",
       "\n",
       "[226 rows x 9 columns]"
      ]
     },
     "execution_count": 12,
     "metadata": {},
     "output_type": "execute_result"
    }
   ],
   "source": [
    "data[\"Federal Reserve Notes %\"] = data[\"Federal Reserve Notes Outstanding\"] / data[\"Total Liabilities\"]\n",
    "data"
   ]
  },
  {
   "cell_type": "markdown",
   "id": "80c1312e",
   "metadata": {},
   "source": [
    "## 6."
   ]
  },
  {
   "cell_type": "code",
   "execution_count": 14,
   "id": "b807a480",
   "metadata": {},
   "outputs": [
    {
     "name": "stdout",
     "output_type": "stream",
     "text": [
      "0      2002-12-31\n",
      "1      2003-01-31\n",
      "2      2003-02-28\n",
      "3      2003-03-31\n",
      "4      2003-04-30\n",
      "          ...    \n",
      "221    2021-05-31\n",
      "222    2021-06-30\n",
      "223    2021-07-31\n",
      "224    2021-08-31\n",
      "225    2021-09-30\n",
      "Name: DATE, Length: 226, dtype: object\n",
      "0      0.707951\n",
      "1      0.707521\n",
      "2      0.704108\n",
      "3      0.706357\n",
      "4      0.719367\n",
      "         ...   \n",
      "221    7.827495\n",
      "222    7.986989\n",
      "223    8.150754\n",
      "224    8.252159\n",
      "225    8.309378\n",
      "Name: Total Liabilities, Length: 226, dtype: float64\n",
      "0      0.648745\n",
      "1      0.646023\n",
      "2      0.648417\n",
      "3      0.651600\n",
      "4      0.655045\n",
      "         ...   \n",
      "221    2.120472\n",
      "222    2.130867\n",
      "223    2.137390\n",
      "224    2.139164\n",
      "225    2.142848\n",
      "Name: Federal Reserve Notes Outstanding, Length: 226, dtype: float64\n",
      "0      0.005628\n",
      "1      0.005650\n",
      "2      0.004637\n",
      "3      0.004953\n",
      "4      0.008352\n",
      "         ...   \n",
      "221    0.862533\n",
      "222    0.767312\n",
      "223    0.633925\n",
      "224    0.366867\n",
      "225    0.296934\n",
      "Name: U.S. Treasury General Account, Length: 226, dtype: float64\n",
      "0      0.021322\n",
      "1      0.026137\n",
      "2      0.023256\n",
      "3      0.022239\n",
      "4      0.025665\n",
      "         ...   \n",
      "221    3.883068\n",
      "222    3.789613\n",
      "223    3.944128\n",
      "224    4.134707\n",
      "225    4.206449\n",
      "Name: Deposits from Dep. Institutions, Length: 226, dtype: float64\n",
      "0      0.000363\n",
      "1      0.000573\n",
      "2      0.000383\n",
      "3      0.000360\n",
      "4      0.000396\n",
      "         ...   \n",
      "221    0.397279\n",
      "222    0.349301\n",
      "223    0.253935\n",
      "224    0.243109\n",
      "225    0.236593\n",
      "Name: Other Deposits, Length: 226, dtype: float64\n",
      "0      0.021150\n",
      "1      0.018920\n",
      "2      0.017715\n",
      "3      0.018133\n",
      "4      0.020125\n",
      "         ...   \n",
      "221    0.502431\n",
      "222    0.890892\n",
      "223    1.129328\n",
      "224    1.318717\n",
      "225    1.376296\n",
      "Name: Reverse Repos, Length: 226, dtype: float64\n",
      "0      0.010743\n",
      "1      0.010218\n",
      "2      0.009699\n",
      "3      0.009072\n",
      "4      0.009784\n",
      "         ...   \n",
      "221    0.061712\n",
      "222    0.059004\n",
      "223    0.052049\n",
      "224    0.049596\n",
      "225    0.050258\n",
      "Name: Other Liabilities, Length: 226, dtype: float64\n",
      "0      0.916369\n",
      "1      0.913079\n",
      "2      0.920906\n",
      "3      0.922480\n",
      "4      0.910586\n",
      "         ...   \n",
      "221    0.270900\n",
      "222    0.266792\n",
      "223    0.262232\n",
      "224    0.259225\n",
      "225    0.257883\n",
      "Name: Federal Reserve Notes %, Length: 226, dtype: float64\n"
     ]
    }
   ],
   "source": [
    "for column in data:\n",
    "    print(data[column])"
   ]
  },
  {
   "cell_type": "markdown",
   "id": "0359a171",
   "metadata": {},
   "source": [
    "## 7. "
   ]
  },
  {
   "cell_type": "code",
   "execution_count": 21,
   "id": "c12970b0",
   "metadata": {},
   "outputs": [
    {
     "data": {
      "text/plain": [
       "Text(0.5, 0, 'Year')"
      ]
     },
     "execution_count": 21,
     "metadata": {},
     "output_type": "execute_result"
    },
    {
     "data": {
      "image/png": "[encoded data removed]",
      "text/plain": [
       "<Figure size 2000x1000 with 1 Axes>"
      ]
     },
     "metadata": {},
     "output_type": "display_data"
    }
   ],
   "source": [
    "import matplotlib.pyplot as plt\n",
    "fig, ax = plt.subplots(figsize =(20,10))\n",
    "data[[\"Total Liabilities\", \"Federal Reserve Notes Outstanding\"]].plot(\n",
    "    logy = True,\n",
    "    linewidth = 2,\n",
    "    ax = ax)\n",
    "ax.set_title(\"Liabilities Bar Graph\")\n",
    "ax.set_ylabel(\"Dollars\")\n",
    "ax.set_xlabel(\"Year\")"
   ]
  },
  {
   "cell_type": "markdown",
   "id": "e47253e1",
   "metadata": {},
   "source": [
    "## 8. "
   ]
  },
  {
   "cell_type": "code",
   "execution_count": 19,
   "id": "0fb6c5dd",
   "metadata": {},
   "outputs": [
    {
     "name": "stderr",
     "output_type": "stream",
     "text": [
      "C:\\Users\\aleah\\AppData\\Local\\Temp\\ipykernel_12664\\4211967880.py:1: FutureWarning: The default value of numeric_only in DataFrame.mean is deprecated. In a future version, it will default to False. In addition, specifying 'numeric_only=None' is deprecated. Select only valid columns or specify the value of numeric_only to silence this warning.\n",
      "  data.mean(axis=0).plot.bar()\n"
     ]
    },
    {
     "data": {
      "text/plain": [
       "<Axes: >"
      ]
     },
     "execution_count": 19,
     "metadata": {},
     "output_type": "execute_result"
    },
    {
     "data": {
      "image/png": "[encoded data removed]",
      "text/plain": [
       "<Figure size 640x480 with 1 Axes>"
      ]
     },
     "metadata": {},
     "output_type": "display_data"
    }
   ],
   "source": [
    "data.mean(axis=0).plot.bar()"
   ]
  },
  {
   "cell_type": "markdown",
   "id": "da030670",
   "metadata": {},
   "source": [
    "## 9."
   ]
  },
  {
   "cell_type": "code",
   "execution_count": 40,
   "id": "d5c63d6c",
   "metadata": {},
   "outputs": [
    {
     "data": {
      "text/plain": [
       "Text(0.5, 0, 'Time (Months)')"
      ]
     },
     "execution_count": 40,
     "metadata": {},
     "output_type": "execute_result"
    },
    {
     "data": {
      "image/png": "[encoded data removed]",
      "text/plain": [
       "<Figure size 1000x500 with 1 Axes>"
      ]
     },
     "metadata": {},
     "output_type": "display_data"
    }
   ],
   "source": [
    "fig, ax = plt.subplots(figsize =(10,5))\n",
    "data[[\"Total Liabilities\", \"Federal Reserve Notes Outstanding\"]].plot(\n",
    "    logy = True,\n",
    "    linewidth = 1,\n",
    "    color=[\"rebeccapurple\", \"maroon\"],\n",
    "    linestyle = \"dashdot\",\n",
    "    ax = ax)\n",
    "ax.set_title(\"Federal Reserve Notes Compared To Total Liabilities\")\n",
    "ax.set_ylabel(\"Dollars\")\n",
    "ax.set_xlabel(\"Time (Months)\")"
   ]
  },
  {
   "cell_type": "code",
   "execution_count": null,
   "id": "3e3d29cf",
   "metadata": {},
   "outputs": [],
   "source": []
  }
 ],
 "metadata": {
  "kernelspec": {
   "display_name": "Python 3 (ipykernel)",
   "language": "python",
   "name": "python3"
  },
  "language_info": {
   "codemirror_mode": {
    "name": "ipython",
    "version": 3
   },
   "file_extension": ".py",
   "mimetype": "text/x-python",
   "name": "python",
   "nbconvert_exporter": "python",
   "pygments_lexer": "ipython3",
   "version": "3.11.4"
  }
 },
 "nbformat": 4,
 "nbformat_minor": 5
}
