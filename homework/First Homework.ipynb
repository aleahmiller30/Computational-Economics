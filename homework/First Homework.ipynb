{
 "cells": [
  {
   "cell_type": "markdown",
   "id": "0c2646e4",
   "metadata": {},
   "source": [
    "\n",
    "# Exercises\n",
    "1. Create a list of numbers 100 elements in length that counts by 3s - i.e., [3,6,9,12,...]\n",
    "2. Using the list from question 1, create a second list whose elements are the same values converted to strings. hint: use a for loop and the function str().\n",
    "3. Using the list from question 2, create a variable that concatenates each of the elements in order of index (Hint: result should be like \"36912...\").\n",
    "4. Using .pop() and .append(), create a list whose values are the same as the list from question 1 but in reverse order. (Hint: .pop() removes the last element from a list. The value can be save, i.e., x = lst.pop().)\n",
    "5. Using len(), calculate the midpoint of the list from question 1. Pass this midpoint to slice the list so that the resultant copy includes only the second half of the list from question 1.\n",
    "6. Create a string that includes only every other element, starting from the 0th element, from the string in question 3 while maintaining the order of these elements (Hint: this can be done be using a for loop whose values are descending).\n",
    "7. Explain the difference between a dynamic list in Python (usually referred to as a list) and a tuple."
   ]
  },
  {
   "cell_type": "markdown",
   "id": "6f598c91",
   "metadata": {},
   "source": [
    "### 1."
   ]
  },
  {
   "cell_type": "code",
   "execution_count": 11,
   "id": "253923b8",
   "metadata": {
    "scrolled": true
   },
   "outputs": [
    {
     "name": "stdout",
     "output_type": "stream",
     "text": [
      "[0, 3, 6, 9, 12, 15, 18, 21, 24, 27, 30, 33, 36, 39, 42, 45, 48, 51, 54, 57, 60, 63, 66, 69, 72, 75, 78, 81, 84, 87, 90, 93, 96, 99, 102, 105, 108, 111, 114, 117, 120, 123, 126, 129, 132, 135, 138, 141, 144, 147, 150, 153, 156, 159, 162, 165, 168, 171, 174, 177, 180, 183, 186, 189, 192, 195, 198, 201, 204, 207, 210, 213, 216, 219, 222, 225, 228, 231, 234, 237, 240, 243, 246, 249, 252, 255, 258, 261, 264, 267, 270, 273, 276, 279, 282, 285, 288, 291, 294, 297, 300]\n"
     ]
    }
   ],
   "source": [
    "minrange = 0\n",
    "interval = 3\n",
    "list_length = 100\n",
    "maxrange = interval * list_length\n",
    "range_list = list(range(minrange, maxrange +1, interval))\n",
    "print(range_list)"
   ]
  },
  {
   "cell_type": "code",
   "execution_count": 2,
   "id": "da2035c4",
   "metadata": {},
   "outputs": [
    {
     "name": "stdout",
     "output_type": "stream",
     "text": [
      "[0, 3, 6, 9, 12, 15, 18, 21, 24, 27, 30, 33, 36, 39, 42, 45, 48, 51, 54, 57, 60, 63, 66, 69, 72, 75, 78, 81, 84, 87, 90, 93, 96, 99, 102, 105, 108, 111, 114, 117, 120, 123, 126, 129, 132, 135, 138, 141, 144, 147, 150, 153, 156, 159, 162, 165, 168, 171, 174, 177, 180, 183, 186, 189, 192, 195, 198, 201, 204, 207, 210, 213, 216, 219, 222, 225, 228, 231, 234, 237, 240, 243, 246, 249, 252, 255, 258, 261, 264, 267, 270, 273, 276, 279, 282, 285, 288, 291, 294, 297]\n"
     ]
    }
   ],
   "source": [
    "# second way using a generator function\n",
    "len_x = 100\n",
    "interval = 3\n",
    "lst = [i for i in range(0, len_x * interval, interval)]\n",
    "print(lst)"
   ]
  },
  {
   "cell_type": "markdown",
   "id": "b17b2e7e",
   "metadata": {},
   "source": [
    "### 2."
   ]
  },
  {
   "cell_type": "code",
   "execution_count": 3,
   "id": "9d0138c8",
   "metadata": {},
   "outputs": [
    {
     "name": "stdout",
     "output_type": "stream",
     "text": [
      "['0', '3', '6', '9', '12', '15', '18', '21', '24', '27', '30', '33', '36', '39', '42', '45', '48', '51', '54', '57', '60', '63', '66', '69', '72', '75', '78', '81', '84', '87', '90', '93', '96', '99', '102', '105', '108', '111', '114', '117', '120', '123', '126', '129', '132', '135', '138', '141', '144', '147', '150', '153', '156', '159', '162', '165', '168', '171', '174', '177', '180', '183', '186', '189', '192', '195', '198', '201', '204', '207', '210', '213', '216', '219', '222', '225', '228', '231', '234', '237', '240', '243', '246', '249', '252', '255', '258', '261', '264', '267', '270', '273', '276', '279', '282', '285', '288', '291', '294', '297', '300']\n"
     ]
    }
   ],
   "source": [
    "x = [str(val) for val in range_list]\n",
    "print (x)"
   ]
  },
  {
   "cell_type": "markdown",
   "id": "e27d180c",
   "metadata": {},
   "source": [
    "### 3."
   ]
  },
  {
   "cell_type": "code",
   "execution_count": 4,
   "id": "6c74cf42",
   "metadata": {
    "scrolled": true
   },
   "outputs": [
    {
     "name": "stdout",
     "output_type": "stream",
     "text": [
      "0369121518212427303336394245485154576063666972757881848790939699102105108111114117120123126129132135138141144147150153156159162165168171174177180183186189192195198201204207210213216219222225228231234237240243246249252255258261264267270273276279282285288291294297300\n"
     ]
    }
   ],
   "source": [
    "concat_list = \"\"\n",
    "for val in x:\n",
    "    concat_list = concat_list + val\n",
    "print(concat_list)"
   ]
  },
  {
   "cell_type": "markdown",
   "id": "a8c9dda6",
   "metadata": {},
   "source": [
    "### 4."
   ]
  },
  {
   "cell_type": "code",
   "execution_count": 5,
   "id": "c3b95943",
   "metadata": {},
   "outputs": [],
   "source": [
    "reverse_list = []\n",
    "for val in range(len(range_list)):\n",
    "    last_val = range_list.pop()\n",
    "    reverse_list.append(last_val)"
   ]
  },
  {
   "cell_type": "code",
   "execution_count": 6,
   "id": "5b77ea7b",
   "metadata": {},
   "outputs": [
    {
     "name": "stdout",
     "output_type": "stream",
     "text": [
      "[300, 297, 294, 291, 288, 285, 282, 279, 276, 273, 270, 267, 264, 261, 258, 255, 252, 249, 246, 243, 240, 237, 234, 231, 228, 225, 222, 219, 216, 213, 210, 207, 204, 201, 198, 195, 192, 189, 186, 183, 180, 177, 174, 171, 168, 165, 162, 159, 156, 153, 150, 147, 144, 141, 138, 135, 132, 129, 126, 123, 120, 117, 114, 111, 108, 105, 102, 99, 96, 93, 90, 87, 84, 81, 78, 75, 72, 69, 66, 63, 60, 57, 54, 51, 48, 45, 42, 39, 36, 33, 30, 27, 24, 21, 18, 15, 12, 9, 6, 3, 0]\n"
     ]
    }
   ],
   "source": [
    "print(reverse_list)"
   ]
  },
  {
   "cell_type": "markdown",
   "id": "e7d5f2fa",
   "metadata": {},
   "source": [
    "### 5. "
   ]
  },
  {
   "cell_type": "code",
   "execution_count": 17,
   "id": "c096d484",
   "metadata": {},
   "outputs": [
    {
     "name": "stdout",
     "output_type": "stream",
     "text": [
      "50\n"
     ]
    }
   ],
   "source": [
    "#idk how to do this part\n",
    "midpoint = int(len(range_list)/2)\n",
    "print(midpoint)"
   ]
  },
  {
   "cell_type": "code",
   "execution_count": 18,
   "id": "27edc9f8",
   "metadata": {},
   "outputs": [
    {
     "name": "stdout",
     "output_type": "stream",
     "text": [
      "[150, 153, 156, 159, 162, 165, 168, 171, 174, 177, 180, 183, 186, 189, 192, 195, 198, 201, 204, 207, 210, 213, 216, 219, 222, 225, 228, 231, 234, 237, 240, 243, 246, 249, 252, 255, 258, 261, 264, 267, 270, 273, 276, 279, 282, 285, 288, 291, 294, 297, 300]\n"
     ]
    }
   ],
   "source": [
    "midpoint = int(len(range_list)/2)\n",
    "print(range_list[midpoint:])"
   ]
  },
  {
   "cell_type": "markdown",
   "id": "4ecac8cb",
   "metadata": {},
   "source": [
    "### 6."
   ]
  },
  {
   "cell_type": "code",
   "execution_count": 19,
   "id": "4d20a5e0",
   "metadata": {},
   "outputs": [
    {
     "name": "stdout",
     "output_type": "stream",
     "text": [
      "0611122233334445556666777888999912018114110216212318414410516512618714710816812918024020126122228324320426422528624620726722828924930\n"
     ]
    }
   ],
   "source": [
    "concat_list2 = concat_list[::2]\n",
    "print(concat_list2)"
   ]
  },
  {
   "cell_type": "markdown",
   "id": "52b6e7ba",
   "metadata": {},
   "source": [
    "### 7."
   ]
  },
  {
   "cell_type": "markdown",
   "id": "30710090",
   "metadata": {},
   "source": [
    "The difference between a list and tuple in python is that lists are changeable and are represented in brackets [] whereas tuples are not changeable and are displayed in parenthesis ()"
   ]
  }
 ],
 "metadata": {
  "kernelspec": {
   "display_name": "Python 3 (ipykernel)",
   "language": "python",
   "name": "python3"
  },
  "language_info": {
   "codemirror_mode": {
    "name": "ipython",
    "version": 3
   },
   "file_extension": ".py",
   "mimetype": "text/x-python",
   "name": "python",
   "nbconvert_exporter": "python",
   "pygments_lexer": "ipython3",
   "version": "3.11.4"
  }
 },
 "nbformat": 4,
 "nbformat_minor": 5
}
