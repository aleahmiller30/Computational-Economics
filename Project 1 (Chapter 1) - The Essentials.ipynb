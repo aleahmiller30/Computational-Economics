{
 "cells": [
  {
   "cell_type": "markdown",
   "id": "86bb406d",
   "metadata": {},
   "source": [
    "# Project 1: The essentials\n",
    "*italics*\n",
    "_italics_\n",
    "\n",
    "*bold*\n",
    "_bold_\n",
    "\n",
    "**_bold italic_**\n",
    "\n",
    "###Execute Cell Options\n",
    "Create new cells using alt + enter\n",
    "Run cell using ctrl + enter\n",
    "Run cell and move to next cell using shift + enter\n"
   ]
  },
  {
   "cell_type": "code",
   "execution_count": 1,
   "id": "b63da779",
   "metadata": {},
   "outputs": [
    {
     "name": "stdout",
     "output_type": "stream",
     "text": [
      "Hello world\n"
     ]
    }
   ],
   "source": [
    "#helloworld.py\n",
    "print(\"Hello world\")"
   ]
  },
  {
   "cell_type": "code",
   "execution_count": 2,
   "id": "be4d06df",
   "metadata": {},
   "outputs": [
    {
     "data": {
      "text/plain": [
       "'Hello World'"
      ]
     },
     "execution_count": 2,
     "metadata": {},
     "output_type": "execute_result"
    }
   ],
   "source": [
    "'Hello World'"
   ]
  },
  {
   "cell_type": "code",
   "execution_count": 3,
   "id": "22d83f76",
   "metadata": {},
   "outputs": [
    {
     "name": "stdout",
     "output_type": "stream",
     "text": [
      "Hello World\n"
     ]
    }
   ],
   "source": [
    "msg = 'Hello World'\n",
    "print(msg)"
   ]
  },
  {
   "cell_type": "markdown",
   "id": "c3a03d93",
   "metadata": {},
   "source": [
    "## Methods"
   ]
  },
  {
   "cell_type": "code",
   "execution_count": 4,
   "id": "9f5db93c",
   "metadata": {},
   "outputs": [
    {
     "data": {
      "text/plain": [
       "int"
      ]
     },
     "execution_count": 4,
     "metadata": {},
     "output_type": "execute_result"
    }
   ],
   "source": [
    "type(8)"
   ]
  },
  {
   "cell_type": "code",
   "execution_count": 5,
   "id": "409746de",
   "metadata": {},
   "outputs": [
    {
     "data": {
      "text/plain": [
       "float"
      ]
     },
     "execution_count": 5,
     "metadata": {},
     "output_type": "execute_result"
    }
   ],
   "source": [
    "type(8.)"
   ]
  },
  {
   "cell_type": "code",
   "execution_count": 6,
   "id": "204f135b",
   "metadata": {},
   "outputs": [
    {
     "data": {
      "text/plain": [
       "str"
      ]
     },
     "execution_count": 6,
     "metadata": {},
     "output_type": "execute_result"
    }
   ],
   "source": [
    "type('8')"
   ]
  },
  {
   "cell_type": "code",
   "execution_count": 7,
   "id": "8cc141a4",
   "metadata": {},
   "outputs": [
    {
     "data": {
      "text/plain": [
       "'hello world'"
      ]
     },
     "execution_count": 7,
     "metadata": {},
     "output_type": "execute_result"
    }
   ],
   "source": [
    "msg.lower()"
   ]
  },
  {
   "cell_type": "code",
   "execution_count": 8,
   "id": "c5972c24",
   "metadata": {},
   "outputs": [
    {
     "data": {
      "text/plain": [
       "'HELLO WORLD'"
      ]
     },
     "execution_count": 8,
     "metadata": {},
     "output_type": "execute_result"
    }
   ],
   "source": [
    "msg.upper()"
   ]
  },
  {
   "cell_type": "code",
   "execution_count": 9,
   "id": "5c9a04ad",
   "metadata": {},
   "outputs": [
    {
     "data": {
      "text/plain": [
       "'Hello World'"
      ]
     },
     "execution_count": 9,
     "metadata": {},
     "output_type": "execute_result"
    }
   ],
   "source": [
    "msg.lower().title()"
   ]
  },
  {
   "cell_type": "code",
   "execution_count": 10,
   "id": "a4f705f9",
   "metadata": {},
   "outputs": [
    {
     "name": "stdout",
     "output_type": "stream",
     "text": [
      "Data\n",
      "Table\n"
     ]
    }
   ],
   "source": [
    "print(\"data_table\".title().replace(\"_\",\"\\n\"))"
   ]
  },
  {
   "cell_type": "markdown",
   "id": "4cc92354",
   "metadata": {},
   "source": [
    "## Concatenate Objects\n",
    "\n",
    "Using + between strings concatenates strings"
   ]
  },
  {
   "cell_type": "code",
   "execution_count": 25,
   "id": "de1095f7",
   "metadata": {},
   "outputs": [
    {
     "data": {
      "text/plain": [
       "'123'"
      ]
     },
     "execution_count": 25,
     "metadata": {},
     "output_type": "execute_result"
    }
   ],
   "source": [
    "\"1\" \"2\" \"3\""
   ]
  },
  {
   "cell_type": "code",
   "execution_count": 11,
   "id": "fc68f696",
   "metadata": {},
   "outputs": [
    {
     "name": "stdout",
     "output_type": "stream",
     "text": [
      "The Zen of Python, by Tim Peters\n",
      "\n",
      "Beautiful is better than ugly.\n",
      "Explicit is better than implicit.\n",
      "Simple is better than complex.\n",
      "Complex is better than complicated.\n",
      "Flat is better than nested.\n",
      "Sparse is better than dense.\n",
      "Readability counts.\n",
      "Special cases aren't special enough to break the rules.\n",
      "Although practicality beats purity.\n",
      "Errors should never pass silently.\n",
      "Unless explicitly silenced.\n",
      "In the face of ambiguity, refuse the temptation to guess.\n",
      "There should be one-- and preferably only one --obvious way to do it.\n",
      "Although that way may not be obvious at first unless you're Dutch.\n",
      "Now is better than never.\n",
      "Although never is often better than *right* now.\n",
      "If the implementation is hard to explain, it's a bad idea.\n",
      "If the implementation is easy to explain, it may be a good idea.\n",
      "Namespaces are one honking great idea -- let's do more of those!\n"
     ]
    }
   ],
   "source": [
    "import this"
   ]
  },
  {
   "cell_type": "markdown",
   "id": "1f00d857",
   "metadata": {},
   "source": [
    "## Printing"
   ]
  },
  {
   "cell_type": "code",
   "execution_count": 12,
   "id": "bfeb8ae2",
   "metadata": {},
   "outputs": [],
   "source": [
    "line1 = \"You thought it would be easy\"\n",
    "line2 = \"You thought it would be strange\"\n",
    "line3 = \"But then you started coding\"\n",
    "line4 = \"Things never were the same\""
   ]
  },
  {
   "cell_type": "markdown",
   "id": "954c7a50",
   "metadata": {},
   "source": [
    "Placing commas between objects creates a tuple"
   ]
  },
  {
   "cell_type": "code",
   "execution_count": 13,
   "id": "7e6eaa43",
   "metadata": {},
   "outputs": [
    {
     "data": {
      "text/plain": [
       "('You thought it would be easy',\n",
       " 'You thought it would be strange',\n",
       " 'But then you started coding',\n",
       " 'Things never were the same')"
      ]
     },
     "execution_count": 13,
     "metadata": {},
     "output_type": "execute_result"
    }
   ],
   "source": [
    "line1, line2, line3, line4"
   ]
  },
  {
   "cell_type": "markdown",
   "id": "15826580",
   "metadata": {},
   "source": [
    "A comma in the print function implies some action by the function. The default value attributed to a seperating comma is a space."
   ]
  },
  {
   "cell_type": "code",
   "execution_count": 14,
   "id": "3bb99f95",
   "metadata": {},
   "outputs": [
    {
     "name": "stdout",
     "output_type": "stream",
     "text": [
      "You thought it would be easy\n",
      "You thought it would be strange\n",
      "But then you started coding\n",
      "Things never were the same\n"
     ]
    }
   ],
   "source": [
    "print(line1, line2, line3, line4, sep = \"\\n\")"
   ]
  },
  {
   "cell_type": "code",
   "execution_count": 15,
   "id": "ea021e5f",
   "metadata": {},
   "outputs": [
    {
     "name": "stdout",
     "output_type": "stream",
     "text": [
      "We may use 'single quotes' within double quotes\n",
      "We may use \"double quotes\" within single quotes\n"
     ]
    }
   ],
   "source": [
    "single_in_double = \"We may use 'single quotes' within double quotes\"\n",
    "double_in_single = 'We may use \"double quotes\" within single quotes'\n",
    "print(single_in_double)\n",
    "print(double_in_single)"
   ]
  },
  {
   "cell_type": "markdown",
   "id": "7fa20fd8",
   "metadata": {},
   "source": [
    "## Escape Sequences and Other String Functions"
   ]
  },
  {
   "cell_type": "code",
   "execution_count": 26,
   "id": "d966300e",
   "metadata": {},
   "outputs": [],
   "source": [
    "#\"\\\" is a backslash\n",
    "#'\\\" is a single quote\n",
    "#\"\\\"\" is a double quote\n",
    "#\"\\t\" is a horizontal tab\n",
    "#\"\\n\" is a new line\n",
    "\n",
    "#using a backslash followed by a return key (enter) \n",
    "#will allow a single line string to be written across \n",
    "#multiple lines"
   ]
  },
  {
   "cell_type": "code",
   "execution_count": 17,
   "id": "90db1416",
   "metadata": {},
   "outputs": [
    {
     "name": "stdout",
     "output_type": "stream",
     "text": [
      "We may use 'single quotes' in single quotes.\n",
      "Or we may use \"double quotes\" in double quotes.\n",
      "We may use two back backslashes to print a single backslash: \\\n",
      "Every\n",
      "word\n",
      "is\n",
      "a\n",
      "new\n",
      "line\n",
      "We may start a new line \n",
      "\tand use tab for a hanging indent\n"
     ]
    }
   ],
   "source": [
    "single_quotes = 'We may use \\'single quotes\\' in single quotes.'\n",
    "double_quotes = \"Or we may use \\\"double quotes\\\" in double quotes.\"\n",
    "read_backslash = \"We may use two back backslashes to print a single backslash: \\\\\"\n",
    "lines = \"Every\\nword\\nis\\na\\nnew\\nline\"\n",
    "new_line_and_tab = \"We may start a new line \\n\\tand use tab for a hanging indent\"\n",
    "\n",
    "print(single_quotes)\n",
    "print(double_quotes)\n",
    "print(read_backslash)\n",
    "print(lines)\n",
    "print(new_line_and_tab)"
   ]
  },
  {
   "cell_type": "code",
   "execution_count": 18,
   "id": "c5925336",
   "metadata": {},
   "outputs": [],
   "source": [
    "#\"\\b\" is a backspace\n",
    "#\"\\f\" is a formfeed\n",
    "#\"\\v\" is a vertical tab\n",
    "\n",
    "#.lstrip(): remove spaces on the far left\n",
    "#.rstrip(): remove spaces on the far right\n",
    "#.strip(): remove spaces on the left and right of text object"
   ]
  },
  {
   "cell_type": "code",
   "execution_count": 19,
   "id": "cb6d49e2",
   "metadata": {},
   "outputs": [
    {
     "name": "stdout",
     "output_type": "stream",
     "text": [
      "no spaces removed:\n",
      "     Look at all the spaces in the text!     \n"
     ]
    }
   ],
   "source": [
    "spaces = \"    Look at all the spaces in the text!     \"\n",
    "print(\"no spaces removed:\\n\", spaces)"
   ]
  },
  {
   "cell_type": "code",
   "execution_count": 20,
   "id": "35e0da37",
   "metadata": {},
   "outputs": [
    {
     "name": "stdout",
     "output_type": "stream",
     "text": [
      "Remove left spaces:\n",
      "Look at all the spaces in the text!     \n",
      "Remove right spaces:\n",
      "    Look at all the spaces in the text!\n",
      "Remove left and right spaces:\n",
      "Look at all the spaces in the text!\n"
     ]
    }
   ],
   "source": [
    "remove_left_spaces = spaces.lstrip()\n",
    "remove_right_spaces = spaces.rstrip()\n",
    "remove_left_and_right_spaces = spaces.strip()\n",
    "\n",
    "print(\"Remove left spaces:\\n\" + remove_left_spaces)\n",
    "print(\"Remove right spaces:\\n\" + remove_right_spaces)\n",
    "print(\"Remove left and right spaces:\\n\" + remove_left_and_right_spaces)"
   ]
  },
  {
   "cell_type": "code",
   "execution_count": 21,
   "id": "ad208f52",
   "metadata": {},
   "outputs": [
    {
     "name": "stdout",
     "output_type": "stream",
     "text": [
      "no spaces removed:\n",
      "      Look at all the spaces in the text!    \n",
      "Remove all spaces:\n",
      "Lookatallthespacesinthetext!\n"
     ]
    }
   ],
   "source": [
    "spaces = \"     Look at all the spaces in the text!    \"\n",
    "print(\"no spaces removed:\\n\", spaces)\n",
    "\n",
    "remove_all_spaces = spaces.replace(\" \", \"\")\n",
    "print(\"Remove all spaces:\\n\" + remove_all_spaces)"
   ]
  },
  {
   "cell_type": "code",
   "execution_count": 22,
   "id": "8fdcc51d",
   "metadata": {},
   "outputs": [
    {
     "name": "stdout",
     "output_type": "stream",
     "text": [
      "Everything in this object will be recorded exactly as entered,\n",
      "if we enter a new line or\n",
      "    a new line with a tab.\n"
     ]
    }
   ],
   "source": [
    "#triplequotes - doesn't use them much anymore\n",
    "x = \"\"\"\\\n",
    "Everything in this object will be recorded exactly as entered,\n",
    "if we enter a new line or\n",
    "    a new line with a tab.\"\"\"\n",
    "\n",
    "print(x)"
   ]
  },
  {
   "cell_type": "markdown",
   "id": "c18e9de2",
   "metadata": {},
   "source": [
    "## Working With Numbers"
   ]
  },
  {
   "cell_type": "code",
   "execution_count": 23,
   "id": "a1959889",
   "metadata": {},
   "outputs": [
    {
     "name": "stdout",
     "output_type": "stream",
     "text": [
      "num1: 8 \n",
      "num1s: 53\n"
     ]
    }
   ],
   "source": [
    "#integers\n",
    "num1 = 5 + 3 \n",
    "num1s = \"5\" +\"3\"\n",
    "\n",
    "print(\"num1:\", num1,\"\\nnum1s:\", num1s)"
   ]
  },
  {
   "cell_type": "code",
   "execution_count": 24,
   "id": "7dba4ee4",
   "metadata": {},
   "outputs": [
    {
     "name": "stdout",
     "output_type": "stream",
     "text": [
      "num1: 1.6666666666666667 \n",
      "num2: 1.25 \n",
      "num3: 1.3333333333333333\n"
     ]
    }
   ],
   "source": [
    "#floats\n",
    "num1 = 5 / 3\n",
    "num2 = 5 / 4\n",
    "num3 = 4 / 3\n",
    "\n",
    "print(\"num1:\", num1, \"\\nnum2:\", num2, \"\\nnum3:\", num3)"
   ]
  },
  {
   "cell_type": "code",
   "execution_count": 27,
   "id": "7c6143e8",
   "metadata": {},
   "outputs": [
    {
     "data": {
      "text/plain": [
       "(3, 3.0, '3')"
      ]
     },
     "execution_count": 27,
     "metadata": {},
     "output_type": "execute_result"
    }
   ],
   "source": [
    "xint = 3\n",
    "xfloat = 3.\n",
    "xstr = \"3\"\n",
    "xint, xfloat, xstr"
   ]
  },
  {
   "cell_type": "code",
   "execution_count": 28,
   "id": "cb8d64cb",
   "metadata": {},
   "outputs": [
    {
     "data": {
      "text/plain": [
       "(3, int)"
      ]
     },
     "execution_count": 28,
     "metadata": {},
     "output_type": "execute_result"
    }
   ],
   "source": [
    "xint, type(xint)"
   ]
  },
  {
   "cell_type": "code",
   "execution_count": 29,
   "id": "544c72e4",
   "metadata": {},
   "outputs": [
    {
     "data": {
      "text/plain": [
       "(3.0, float)"
      ]
     },
     "execution_count": 29,
     "metadata": {},
     "output_type": "execute_result"
    }
   ],
   "source": [
    "xfloat, type(xfloat)"
   ]
  },
  {
   "cell_type": "code",
   "execution_count": 30,
   "id": "1633efdd",
   "metadata": {},
   "outputs": [
    {
     "data": {
      "text/plain": [
       "('3', str)"
      ]
     },
     "execution_count": 30,
     "metadata": {},
     "output_type": "execute_result"
    }
   ],
   "source": [
    "xstr, type(xstr)"
   ]
  },
  {
   "cell_type": "markdown",
   "id": "b5221a72",
   "metadata": {},
   "source": [
    "if you sum an int and float the resulting object will be a float\n",
    "\n",
    "you cannot combine strings and floats unless you specify what class it turns into"
   ]
  },
  {
   "cell_type": "code",
   "execution_count": 32,
   "id": "63b0a21d",
   "metadata": {},
   "outputs": [
    {
     "data": {
      "text/plain": [
       "(6.0, float)"
      ]
     },
     "execution_count": 32,
     "metadata": {},
     "output_type": "execute_result"
    }
   ],
   "source": [
    "xint + xfloat, type(xint + xfloat)"
   ]
  },
  {
   "cell_type": "code",
   "execution_count": 31,
   "id": "f6931ad2",
   "metadata": {},
   "outputs": [
    {
     "ename": "TypeError",
     "evalue": "can only concatenate str (not \"float\") to str",
     "output_type": "error",
     "traceback": [
      "\u001b[1;31m---------------------------------------------------------------------------\u001b[0m",
      "\u001b[1;31mTypeError\u001b[0m                                 Traceback (most recent call last)",
      "Cell \u001b[1;32mIn[31], line 1\u001b[0m\n\u001b[1;32m----> 1\u001b[0m xstr \u001b[38;5;241m+\u001b[39m xfloat\n",
      "\u001b[1;31mTypeError\u001b[0m: can only concatenate str (not \"float\") to str"
     ]
    }
   ],
   "source": [
    "xstr + xfloat"
   ]
  },
  {
   "cell_type": "code",
   "execution_count": 33,
   "id": "a6adbbff",
   "metadata": {},
   "outputs": [
    {
     "data": {
      "text/plain": [
       "'33.0'"
      ]
     },
     "execution_count": 33,
     "metadata": {},
     "output_type": "execute_result"
    }
   ],
   "source": [
    "xstr + str(xfloat)"
   ]
  },
  {
   "cell_type": "code",
   "execution_count": 34,
   "id": "7e9d9d13",
   "metadata": {},
   "outputs": [
    {
     "data": {
      "text/plain": [
       "'33'"
      ]
     },
     "execution_count": 34,
     "metadata": {},
     "output_type": "execute_result"
    }
   ],
   "source": [
    "xstr + str(xint)"
   ]
  },
  {
   "cell_type": "code",
   "execution_count": 35,
   "id": "20b380f5",
   "metadata": {},
   "outputs": [
    {
     "data": {
      "text/plain": [
       "6"
      ]
     },
     "execution_count": 35,
     "metadata": {},
     "output_type": "execute_result"
    }
   ],
   "source": [
    "int(xstr) + xint"
   ]
  },
  {
   "cell_type": "code",
   "execution_count": 36,
   "id": "bbe2003e",
   "metadata": {},
   "outputs": [
    {
     "data": {
      "text/plain": [
       "6.0"
      ]
     },
     "execution_count": 36,
     "metadata": {},
     "output_type": "execute_result"
    }
   ],
   "source": [
    "float(xstr) +xint"
   ]
  },
  {
   "cell_type": "code",
   "execution_count": 40,
   "id": "13e9b768",
   "metadata": {},
   "outputs": [
    {
     "data": {
      "text/plain": [
       "{'One': 1, 'Two': 2, 'Three': 3}"
      ]
     },
     "execution_count": 40,
     "metadata": {},
     "output_type": "execute_result"
    }
   ],
   "source": [
    "string_to_value ={\n",
    "    \"One\":1,\n",
    "    \"Two\":2,\n",
    "    \"Three\":3\n",
    "}\n",
    "string_to_value"
   ]
  },
  {
   "cell_type": "markdown",
   "id": "aaab6672",
   "metadata": {},
   "source": [
    "### Overflow Error\n",
    "Floats can be too large (2.0^1024 or larger) but an int can be as large as you want"
   ]
  },
  {
   "cell_type": "code",
   "execution_count": 41,
   "id": "38a780a0",
   "metadata": {},
   "outputs": [
    {
     "data": {
      "text/plain": [
       "8.98846567431158e+307"
      ]
     },
     "execution_count": 41,
     "metadata": {},
     "output_type": "execute_result"
    }
   ],
   "source": [
    "2.0**1023"
   ]
  },
  {
   "cell_type": "code",
   "execution_count": 42,
   "id": "f70e3f04",
   "metadata": {},
   "outputs": [
    {
     "ename": "OverflowError",
     "evalue": "(34, 'Result too large')",
     "output_type": "error",
     "traceback": [
      "\u001b[1;31m---------------------------------------------------------------------------\u001b[0m",
      "\u001b[1;31mOverflowError\u001b[0m                             Traceback (most recent call last)",
      "Cell \u001b[1;32mIn[42], line 1\u001b[0m\n\u001b[1;32m----> 1\u001b[0m \u001b[38;5;241m2.0\u001b[39m\u001b[38;5;241m*\u001b[39m\u001b[38;5;241m*\u001b[39m\u001b[38;5;241m1024\u001b[39m\n",
      "\u001b[1;31mOverflowError\u001b[0m: (34, 'Result too large')"
     ]
    }
   ],
   "source": [
    "2.0**1024"
   ]
  },
  {
   "cell_type": "code",
   "execution_count": 43,
   "id": "d6d87dc9",
   "metadata": {},
   "outputs": [
    {
     "data": {
      "text/plain": [
       "179769313486231590772930519078902473361797697894230657273430081157732675805500963132708477322407536021120113879871393357658789768814416622492847430639474124377767893424865485276302219601246094119453082952085005768838150682342462881473913110540827237163350510684586298239947245938479716304835356329624224137216"
      ]
     },
     "execution_count": 43,
     "metadata": {},
     "output_type": "execute_result"
    }
   ],
   "source": [
    "2**1024"
   ]
  }
 ],
 "metadata": {
  "kernelspec": {
   "display_name": "Python 3 (ipykernel)",
   "language": "python",
   "name": "python3"
  },
  "language_info": {
   "codemirror_mode": {
    "name": "ipython",
    "version": 3
   },
   "file_extension": ".py",
   "mimetype": "text/x-python",
   "name": "python",
   "nbconvert_exporter": "python",
   "pygments_lexer": "ipython3",
   "version": "3.11.4"
  }
 },
 "nbformat": 4,
 "nbformat_minor": 5
}
